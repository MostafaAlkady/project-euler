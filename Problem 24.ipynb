{
 "cells": [
  {
   "cell_type": "code",
   "execution_count": 1,
   "outputs": [
    {
     "name": "stdout",
     "output_type": "stream",
     "text": [
      "1000000 : ['2', '7', '8', '3', '9', '1', '5', '4', '6', '0']\n"
     ]
    }
   ],
   "source": [
    "# Python function to print permutations of a given list\n",
    "def permutation(lst):\n",
    "\n",
    "    # If lst is empty then there are no permutations\n",
    "    if len(lst) == 0:\n",
    "        return []\n",
    "\n",
    "    # If there is only one element in lst then, only\n",
    "    # one permutation is possible\n",
    "    if len(lst) == 1:\n",
    "        return [lst]\n",
    "\n",
    "    # Find the permutations for lst if there are\n",
    "    # more than 1 characters\n",
    "\n",
    "    l = [] # empty list that will store current permutation\n",
    "\n",
    "    # Iterate the input(lst) and calculate the permutation\n",
    "    for i in range(len(lst)):\n",
    "       m = lst[i]\n",
    "\n",
    "       # Extract lst[i] or m from the list.  remLst is\n",
    "       # remaining list\n",
    "       remLst = lst[:i] + lst[i+1:]\n",
    "\n",
    "       # Generating all permutations where m is first\n",
    "       # element\n",
    "       for p in permutation(remLst):\n",
    "           l.append([m] + p)\n",
    "    return l\n",
    "\n",
    "\n",
    "# Driver program to test above function\n",
    "data = list('0123456789')\n",
    "i=1\n",
    "for p in permutation(data):\n",
    "    if i == 1000000:\n",
    "      print (i,\":\",p)\n",
    "    i+=1"
   ],
   "metadata": {
    "collapsed": false,
    "ExecuteTime": {
     "end_time": "2023-08-08T04:47:07.206508Z",
     "start_time": "2023-08-08T04:46:57.445487Z"
    }
   },
   "id": "1e4e4221f2c1d9ff"
  },
  {
   "cell_type": "code",
   "execution_count": null,
   "outputs": [],
   "source": [],
   "metadata": {
    "collapsed": false
   },
   "id": "5a3ecd3a52198adf"
  }
 ],
 "metadata": {
  "kernelspec": {
   "display_name": "Python 3",
   "language": "python",
   "name": "python3"
  },
  "language_info": {
   "codemirror_mode": {
    "name": "ipython",
    "version": 2
   },
   "file_extension": ".py",
   "mimetype": "text/x-python",
   "name": "python",
   "nbconvert_exporter": "python",
   "pygments_lexer": "ipython2",
   "version": "2.7.6"
  }
 },
 "nbformat": 4,
 "nbformat_minor": 5
}
