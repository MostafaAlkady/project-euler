{
 "cells": [
  {
   "cell_type": "markdown",
   "metadata": {},
   "source": [
    "The general formula for the 4 branches on the diagonals are the following:\n",
    "$$ 1+2n(2n-1) $$\n",
    "$$ 1+2n(2n+1) $$\n",
    "$$(2n+1)^2$$\n",
    "$$1+4n^2$$\n",
    "\n",
    "The problem can now be solved by a double summation."
   ]
  },
  {
   "cell_type": "markdown",
   "metadata": {},
   "source": []
  }
 ],
 "metadata": {
  "language_info": {
   "name": "python"
  },
  "orig_nbformat": 4
 },
 "nbformat": 4,
 "nbformat_minor": 2
}
