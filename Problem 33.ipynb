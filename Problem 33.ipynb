{
 "cells": [
  {
   "cell_type": "code",
   "execution_count": 11,
   "outputs": [
    {
     "name": "stdout",
     "output_type": "stream",
     "text": [
      "i: 16   j: 64\n",
      "i: 19   j: 95\n",
      "i: 26   j: 65\n",
      "i: 49   j: 98\n"
     ]
    }
   ],
   "source": [
    "for i in range(10,100):\n",
    "    for j in range(i+1,100):\n",
    "        p1 = int(str(i)[0])\n",
    "        p2 = int(str(i)[1])\n",
    "        p3 = int(str(j)[0])\n",
    "        p4 = int(str(j)[1])\n",
    "        if p1 != 0 and p2 != 0 and p3 != 0 and p4 != 0:\n",
    "            if p1 == p3 and p2/p4 == i/j:\n",
    "                print(f\"i: {i}   j: {j}\")\n",
    "            elif p1 == p4 and p2/p3 == i/j:\n",
    "                print(f\"i: {i}   j: {j}\")\n",
    "            elif p2 == p3 and p1/p4 == i/j:\n",
    "                print(f\"i: {i}   j: {j}\")                \n",
    "            elif p2 == p4 and p1/p3 == i/j:\n",
    "                print(f\"i: {i}   j: {j}\")\n"
   ],
   "metadata": {
    "collapsed": false,
    "ExecuteTime": {
     "end_time": "2023-08-13T14:46:18.851441Z",
     "start_time": "2023-08-13T14:46:18.847703Z"
    }
   },
   "id": "e6b9799091021a88"
  }
 ],
 "metadata": {
  "kernelspec": {
   "display_name": "Python 3",
   "language": "python",
   "name": "python3"
  },
  "language_info": {
   "codemirror_mode": {
    "name": "ipython",
    "version": 2
   },
   "file_extension": ".py",
   "mimetype": "text/x-python",
   "name": "python",
   "nbconvert_exporter": "python",
   "pygments_lexer": "ipython2",
   "version": "2.7.6"
  }
 },
 "nbformat": 4,
 "nbformat_minor": 5
}
