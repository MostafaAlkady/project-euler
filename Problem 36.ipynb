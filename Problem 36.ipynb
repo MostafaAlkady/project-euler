{
 "cells": [
  {
   "cell_type": "code",
   "execution_count": 66,
   "outputs": [],
   "source": [
    "from collections import deque"
   ],
   "metadata": {
    "collapsed": false,
    "ExecuteTime": {
     "end_time": "2023-08-14T19:19:42.559422Z",
     "start_time": "2023-08-14T19:19:42.556037Z"
    }
   },
   "id": "78512d276dbf3763"
  },
  {
   "cell_type": "code",
   "execution_count": 78,
   "id": "initial_id",
   "metadata": {
    "collapsed": true,
    "ExecuteTime": {
     "end_time": "2023-08-14T19:24:21.870781Z",
     "start_time": "2023-08-14T19:24:21.868238Z"
    }
   },
   "outputs": [],
   "source": [
    "def decimal_to_binary(n):\n",
    "    remainders = []\n",
    "    n = int(n)\n",
    "    if n == 1:\n",
    "        return '1'\n",
    "    while n != 1:  \n",
    "        if n % 2 == 1:\n",
    "            remainders = deque(remainders)\n",
    "            remainders.appendleft('1')\n",
    "            n = n//2\n",
    "        else:\n",
    "            remainders = deque(remainders)\n",
    "            remainders.appendleft('0')\n",
    "            n = n//2\n",
    "    if n == 1:\n",
    "        remainders.appendleft('1')\n",
    "    else:\n",
    "        remainders.appendleft('0')\n",
    "    remainders = list(remainders)\n",
    "    binary = ''.join(remainders)\n",
    "    return binary"
   ]
  },
  {
   "cell_type": "code",
   "execution_count": 81,
   "outputs": [],
   "source": [
    "def is_palindrome(x):\n",
    "    n = 0\n",
    "    x = str(x)\n",
    "    for i in range(len(x)//2):\n",
    "        if x[i] == x[-1-i]:\n",
    "            n += 1\n",
    "    if n == len(x)//2:\n",
    "        return True\n",
    "    else:\n",
    "        return False"
   ],
   "metadata": {
    "collapsed": false,
    "ExecuteTime": {
     "end_time": "2023-08-14T19:24:38.586017Z",
     "start_time": "2023-08-14T19:24:38.582128Z"
    }
   },
   "id": "df776543f2d08e33"
  },
  {
   "cell_type": "code",
   "execution_count": 83,
   "outputs": [
    {
     "name": "stdout",
     "output_type": "stream",
     "text": [
      "872187\n"
     ]
    }
   ],
   "source": [
    "total = 0\n",
    "for i in range(1,1000000):\n",
    "    j = int(decimal_to_binary(i))\n",
    "    if is_palindrome(i) and is_palindrome(j):\n",
    "        total += i\n",
    "print(total)"
   ],
   "metadata": {
    "collapsed": false,
    "ExecuteTime": {
     "end_time": "2023-08-14T19:25:05.199717Z",
     "start_time": "2023-08-14T19:25:01.032028Z"
    }
   },
   "id": "f0ad8dbb9ef0a1f"
  },
  {
   "cell_type": "code",
   "execution_count": null,
   "outputs": [],
   "source": [],
   "metadata": {
    "collapsed": false
   },
   "id": "d0de9580363d11c9"
  }
 ],
 "metadata": {
  "kernelspec": {
   "display_name": "Python 3",
   "language": "python",
   "name": "python3"
  },
  "language_info": {
   "codemirror_mode": {
    "name": "ipython",
    "version": 2
   },
   "file_extension": ".py",
   "mimetype": "text/x-python",
   "name": "python",
   "nbconvert_exporter": "python",
   "pygments_lexer": "ipython2",
   "version": "2.7.6"
  }
 },
 "nbformat": 4,
 "nbformat_minor": 5
}
