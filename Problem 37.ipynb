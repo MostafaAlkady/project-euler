{
 "cells": [
  {
   "cell_type": "code",
   "execution_count": 1,
   "id": "initial_id",
   "metadata": {
    "collapsed": true,
    "ExecuteTime": {
     "end_time": "2023-08-14T20:55:20.985630Z",
     "start_time": "2023-08-14T20:55:20.982465Z"
    }
   },
   "outputs": [],
   "source": [
    "def gen_primes():\n",
    "    \"\"\" Generate an infinite sequence of prime numbers.\n",
    "    \"\"\"\n",
    "    D = {}\n",
    "    q = 2\n",
    "    while True:\n",
    "        if q not in D:\n",
    "            yield q\n",
    "            D[q * q] = [q]\n",
    "        else:\n",
    "            for p in D[q]:\n",
    "                D.setdefault(p + q, []).append(p)\n",
    "            del D[q]\n",
    "        q += 1"
   ]
  },
  {
   "cell_type": "code",
   "execution_count": 2,
   "outputs": [],
   "source": [
    "def is_prime(n): #check if n is a prime number\n",
    "    n = int(n)\n",
    "    if n <= 1:\n",
    "        return False\n",
    "    for i in range(2, int(n**0.5) + 1):\n",
    "        if n % i == 0:\n",
    "            return False\n",
    "    return True"
   ],
   "metadata": {
    "collapsed": false,
    "ExecuteTime": {
     "end_time": "2023-08-14T20:55:20.989204Z",
     "start_time": "2023-08-14T20:55:20.986825Z"
    }
   },
   "id": "941aca6b87ba6743"
  },
  {
   "cell_type": "code",
   "execution_count": 7,
   "outputs": [
    {
     "name": "stdout",
     "output_type": "stream",
     "text": [
      "748317\n"
     ]
    }
   ],
   "source": [
    "generator = gen_primes()\n",
    "truncatable_primes = []\n",
    "for p in generator:\n",
    "    if p < 12:\n",
    "        continue\n",
    "    n = 0\n",
    "    my_str = str(p)\n",
    "    length = len(my_str)\n",
    "    #left_truncation\n",
    "    left_truncatable = False\n",
    "    for i in range(length):\n",
    "        num = int(my_str[i:length])\n",
    "        if is_prime(num):\n",
    "            n += 1\n",
    "    if n == length:\n",
    "        left_truncatable = True\n",
    "    #right_truncation\n",
    "    right_truncatable = False\n",
    "    n = 0\n",
    "    for i in range(length):\n",
    "        num = int(my_str[0:length - i])\n",
    "        if is_prime(num):\n",
    "            n += 1\n",
    "    if n == length:\n",
    "        right_truncatable = True\n",
    "    ###\n",
    "    if left_truncatable and right_truncatable:\n",
    "        truncatable_primes.append(p)\n",
    "    if len(truncatable_primes) == 11:\n",
    "        break\n",
    "print(sum(truncatable_primes))"
   ],
   "metadata": {
    "collapsed": false,
    "ExecuteTime": {
     "end_time": "2023-08-14T21:02:23.048247Z",
     "start_time": "2023-08-14T21:02:20.484552Z"
    }
   },
   "id": "7917274cc39c1a6b"
  },
  {
   "cell_type": "code",
   "execution_count": 8,
   "outputs": [
    {
     "name": "stdout",
     "output_type": "stream",
     "text": [
      "[23, 37, 53, 73, 313, 317, 373, 797, 3137, 3797, 739397]\n"
     ]
    }
   ],
   "source": [
    "print(truncatable_primes)"
   ],
   "metadata": {
    "collapsed": false,
    "ExecuteTime": {
     "end_time": "2023-08-14T21:02:38.104904Z",
     "start_time": "2023-08-14T21:02:38.100897Z"
    }
   },
   "id": "a9ffcd03d470c63b"
  },
  {
   "cell_type": "code",
   "execution_count": null,
   "outputs": [],
   "source": [],
   "metadata": {
    "collapsed": false
   },
   "id": "b057e9fa9e88d2e3"
  }
 ],
 "metadata": {
  "kernelspec": {
   "display_name": "Python 3",
   "language": "python",
   "name": "python3"
  },
  "language_info": {
   "codemirror_mode": {
    "name": "ipython",
    "version": 2
   },
   "file_extension": ".py",
   "mimetype": "text/x-python",
   "name": "python",
   "nbconvert_exporter": "python",
   "pygments_lexer": "ipython2",
   "version": "2.7.6"
  }
 },
 "nbformat": 4,
 "nbformat_minor": 5
}
