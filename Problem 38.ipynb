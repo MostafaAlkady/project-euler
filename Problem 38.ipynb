{
 "cells": [
  {
   "cell_type": "code",
   "execution_count": 12,
   "id": "initial_id",
   "metadata": {
    "collapsed": true,
    "ExecuteTime": {
     "end_time": "2023-08-15T13:59:27.557515Z",
     "start_time": "2023-08-15T13:59:26.798434Z"
    }
   },
   "outputs": [
    {
     "name": "stdout",
     "output_type": "stream",
     "text": [
      "Number is: 1 Concatenated product is: 123456789\n",
      "Number is: 9 Concatenated product is: 918273645\n",
      "Number is: 192 Concatenated product is: 192384576\n",
      "Number is: 219 Concatenated product is: 219438657\n",
      "Number is: 273 Concatenated product is: 273546819\n",
      "Number is: 327 Concatenated product is: 327654981\n",
      "Number is: 6729 Concatenated product is: 672913458\n",
      "Number is: 6792 Concatenated product is: 679213584\n",
      "Number is: 6927 Concatenated product is: 692713854\n",
      "Number is: 7269 Concatenated product is: 726914538\n",
      "Number is: 7293 Concatenated product is: 729314586\n",
      "Number is: 7329 Concatenated product is: 732914658\n",
      "Number is: 7692 Concatenated product is: 769215384\n",
      "Number is: 7923 Concatenated product is: 792315846\n",
      "Number is: 7932 Concatenated product is: 793215864\n",
      "Number is: 9267 Concatenated product is: 926718534\n",
      "Number is: 9273 Concatenated product is: 927318546\n",
      "Number is: 9327 Concatenated product is: 932718654\n"
     ]
    }
   ],
   "source": [
    "reference = ['1','2','3','4','5','6','7','8','9']\n",
    "maximum = 0\n",
    "for i in range(50000):\n",
    "    l = []\n",
    "    concatenated_product = ''\n",
    "    for j in range(1,10):\n",
    "        l.append(str(i*j))\n",
    "    for k in range(len(l)):\n",
    "        concatenated_product += l[k]\n",
    "        sorted_concatenated_product = ''.join(sorted(concatenated_product))\n",
    "    # print(concatenated_product)\n",
    "        if list(sorted_concatenated_product) == reference and int(concatenated_product) > maximum:\n",
    "            print(\"Number is:\",i,\"Concatenated product is:\",concatenated_product)"
   ]
  },
  {
   "cell_type": "code",
   "execution_count": null,
   "outputs": [],
   "source": [],
   "metadata": {
    "collapsed": false
   },
   "id": "561223141ee87756"
  }
 ],
 "metadata": {
  "kernelspec": {
   "display_name": "Python 3",
   "language": "python",
   "name": "python3"
  },
  "language_info": {
   "codemirror_mode": {
    "name": "ipython",
    "version": 2
   },
   "file_extension": ".py",
   "mimetype": "text/x-python",
   "name": "python",
   "nbconvert_exporter": "python",
   "pygments_lexer": "ipython2",
   "version": "2.7.6"
  }
 },
 "nbformat": 4,
 "nbformat_minor": 5
}
