{
 "cells": [
  {
   "cell_type": "code",
   "execution_count": 82,
   "outputs": [],
   "source": [
    "def gen_primes():\n",
    "    \"\"\" Generate an infinite sequence of prime numbers.\n",
    "    \"\"\"\n",
    "    D = {}\n",
    "    q = 2\n",
    "    while True:\n",
    "        if q not in D:\n",
    "            yield q\n",
    "            D[q * q] = [q]\n",
    "        else:\n",
    "            for p in D[q]:\n",
    "                D.setdefault(p + q, []).append(p)\n",
    "            del D[q]\n",
    "        q += 1\n",
    "generator = gen_primes()"
   ],
   "metadata": {
    "collapsed": false,
    "ExecuteTime": {
     "end_time": "2023-08-15T01:36:50.793418Z",
     "start_time": "2023-08-15T01:36:50.788266Z"
    }
   },
   "id": "d7733a1aa76b8216"
  },
  {
   "cell_type": "code",
   "execution_count": 76,
   "outputs": [],
   "source": [
    "def permutation(lst):\n",
    "    if len(lst) == 0:\n",
    "        return []\n",
    "    if len(lst) == 1:\n",
    "        return [lst]\n",
    "    l = [] # empty list that will store current permutation\n",
    "    for i in range(len(lst)):\n",
    "       m = lst[i]\n",
    "       remLst = lst[:i] + lst[i+1:]\n",
    "       for p in permutation(remLst):\n",
    "           l.append([m] + p)\n",
    "    return l"
   ],
   "metadata": {
    "collapsed": false,
    "ExecuteTime": {
     "end_time": "2023-08-15T01:34:43.772345Z",
     "start_time": "2023-08-15T01:34:43.767819Z"
    }
   },
   "id": "8d369d494a1fbf3b"
  },
  {
   "cell_type": "code",
   "execution_count": 84,
   "outputs": [
    {
     "name": "stdout",
     "output_type": "stream",
     "text": [
      "7652413\n"
     ]
    }
   ],
   "source": [
    "largest = 0\n",
    "prime_count = 0\n",
    "permutations_of_reference = ['1','2','3','4','5','6','7']\n",
    "for p in generator:\n",
    "    prime_count += 1 \n",
    "    sorted_list_of_p = list(str(p))\n",
    "    sorted_list_of_p.sort()\n",
    "    if prime_count % 1000000 == 0:\n",
    "        print(\"Now examining:\", p)\n",
    "    if len(str(p)) == 8:\n",
    "        break\n",
    "    if sorted_list_of_p == permutations_of_reference:\n",
    "        if p > largest:\n",
    "            largest = p\n",
    "print(largest)"
   ],
   "metadata": {
    "collapsed": false,
    "ExecuteTime": {
     "end_time": "2023-08-15T01:37:19.421822Z",
     "start_time": "2023-08-15T01:37:15.143689Z"
    }
   },
   "id": "ac2cc5d08f3ad5f8"
  }
 ],
 "metadata": {
  "kernelspec": {
   "display_name": "Python 3",
   "language": "python",
   "name": "python3"
  },
  "language_info": {
   "codemirror_mode": {
    "name": "ipython",
    "version": 2
   },
   "file_extension": ".py",
   "mimetype": "text/x-python",
   "name": "python",
   "nbconvert_exporter": "python",
   "pygments_lexer": "ipython2",
   "version": "2.7.6"
  }
 },
 "nbformat": 4,
 "nbformat_minor": 5
}
