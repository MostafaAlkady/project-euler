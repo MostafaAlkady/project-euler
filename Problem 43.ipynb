{
 "cells": [
  {
   "cell_type": "code",
   "execution_count": 2,
   "outputs": [],
   "source": [
    "def permutation(lst):\n",
    "    if len(lst) == 0:\n",
    "        return []\n",
    "    if len(lst) == 1:\n",
    "        return [lst]\n",
    "    l = [] # empty list that will store current permutation\n",
    "    for i in range(len(lst)):\n",
    "       m = lst[i]\n",
    "       remLst = lst[:i] + lst[i+1:]\n",
    "       for p in permutation(remLst):\n",
    "           l.append([m] + p)\n",
    "    return l"
   ],
   "metadata": {
    "collapsed": false,
    "ExecuteTime": {
     "end_time": "2023-08-15T14:08:13.412953Z",
     "start_time": "2023-08-15T14:08:13.408609Z"
    }
   },
   "id": "c645998e8203c3e4"
  },
  {
   "cell_type": "code",
   "execution_count": 5,
   "id": "initial_id",
   "metadata": {
    "collapsed": true,
    "ExecuteTime": {
     "end_time": "2023-08-15T14:13:28.844059Z",
     "start_time": "2023-08-15T14:13:14.590021Z"
    }
   },
   "outputs": [],
   "source": [
    "reference = ['0','1','2','3','4','5','6','7','8','9']\n",
    "permutations = permutation(reference)\n",
    "all_pandigitals = []\n",
    "for perm in permutations:\n",
    "    d2d3d4 = int(perm[1] + perm[2] + perm[3])\n",
    "    d3d4d5 = int(perm[2] + perm[3] + perm[4])\n",
    "    d4d5d6 = int(perm[3] + perm[4] + perm[5])\n",
    "    d5d6d7 = int(perm[4] + perm[5] + perm[6])\n",
    "    d6d7d8 = int(perm[5] + perm[6] + perm[7])\n",
    "    d7d8d9 = int(perm[6] + perm[7] + perm[8])\n",
    "    d8d9d10 = int(perm[7] + perm[8] + perm[9])\n",
    "    if d2d3d4 % 2 == 0 and d3d4d5 % 3 == 0 and d4d5d6 % 5 == 0 and d5d6d7 % 7 == 0 and d6d7d8 % 11 == 0 and d7d8d9 % 13 == 0 and d8d9d10 % 17 == 0:\n",
    "        all_pandigitals.append(int(''.join(perm)))"
   ]
  },
  {
   "cell_type": "code",
   "execution_count": 8,
   "outputs": [
    {
     "data": {
      "text/plain": "16695334890"
     },
     "execution_count": 8,
     "metadata": {},
     "output_type": "execute_result"
    }
   ],
   "source": [
    "sum(all_pandigitals)"
   ],
   "metadata": {
    "collapsed": false,
    "ExecuteTime": {
     "end_time": "2023-08-15T14:13:47.065065Z",
     "start_time": "2023-08-15T14:13:47.061524Z"
    }
   },
   "id": "50e3bdf0a22bcc1d"
  },
  {
   "cell_type": "code",
   "execution_count": null,
   "outputs": [],
   "source": [],
   "metadata": {
    "collapsed": false
   },
   "id": "f894ae131ae27bdb"
  }
 ],
 "metadata": {
  "kernelspec": {
   "display_name": "Python 3",
   "language": "python",
   "name": "python3"
  },
  "language_info": {
   "codemirror_mode": {
    "name": "ipython",
    "version": 2
   },
   "file_extension": ".py",
   "mimetype": "text/x-python",
   "name": "python",
   "nbconvert_exporter": "python",
   "pygments_lexer": "ipython2",
   "version": "2.7.6"
  }
 },
 "nbformat": 4,
 "nbformat_minor": 5
}
