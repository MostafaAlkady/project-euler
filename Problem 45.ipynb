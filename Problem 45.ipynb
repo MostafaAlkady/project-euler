{
 "cells": [
  {
   "cell_type": "code",
   "execution_count": 14,
   "id": "initial_id",
   "metadata": {
    "collapsed": true,
    "ExecuteTime": {
     "end_time": "2023-08-15T14:26:14.404530Z",
     "start_time": "2023-08-15T14:24:55.639712Z"
    }
   },
   "outputs": [
    {
     "name": "stdout",
     "output_type": "stream",
     "text": [
      "1\n",
      "40755\n",
      "1533776805\n"
     ]
    },
    {
     "ename": "KeyboardInterrupt",
     "evalue": "",
     "output_type": "error",
     "traceback": [
      "\u001B[0;31m---------------------------------------------------------------------------\u001B[0m",
      "\u001B[0;31mKeyboardInterrupt\u001B[0m                         Traceback (most recent call last)",
      "Cell \u001B[0;32mIn[14], line 5\u001B[0m\n\u001B[1;32m      3\u001B[0m     pentagonal\u001B[38;5;241m.\u001B[39mappend(i\u001B[38;5;241m*\u001B[39m(\u001B[38;5;241m3\u001B[39m\u001B[38;5;241m*\u001B[39mi\u001B[38;5;241m-\u001B[39m\u001B[38;5;241m1\u001B[39m)\u001B[38;5;241m/\u001B[39m\u001B[38;5;241m/\u001B[39m\u001B[38;5;241m2\u001B[39m)\n\u001B[1;32m      4\u001B[0m     hexagonal\u001B[38;5;241m.\u001B[39mappend(i\u001B[38;5;241m*\u001B[39m(\u001B[38;5;241m2\u001B[39m\u001B[38;5;241m*\u001B[39mi\u001B[38;5;241m-\u001B[39m\u001B[38;5;241m1\u001B[39m))\n\u001B[0;32m----> 5\u001B[0m \u001B[38;5;28;01mfor\u001B[39;00m j \u001B[38;5;129;01min\u001B[39;00m \u001B[38;5;28mrange\u001B[39m(\u001B[38;5;241m1\u001B[39m,\u001B[38;5;241m200000\u001B[39m):\n\u001B[1;32m      6\u001B[0m     triangle\u001B[38;5;241m.\u001B[39mappend(j\u001B[38;5;241m*\u001B[39m(j\u001B[38;5;241m+\u001B[39m\u001B[38;5;241m1\u001B[39m)\u001B[38;5;241m/\u001B[39m\u001B[38;5;241m/\u001B[39m\u001B[38;5;241m2\u001B[39m)\n\u001B[1;32m      7\u001B[0m     \u001B[38;5;28;01mif\u001B[39;00m triangle[j\u001B[38;5;241m-\u001B[39m\u001B[38;5;241m1\u001B[39m] \u001B[38;5;129;01min\u001B[39;00m pentagonal \u001B[38;5;129;01mand\u001B[39;00m triangle[j\u001B[38;5;241m-\u001B[39m\u001B[38;5;241m1\u001B[39m] \u001B[38;5;129;01min\u001B[39;00m hexagonal:\n",
      "\u001B[0;31mKeyboardInterrupt\u001B[0m: "
     ]
    }
   ],
   "source": [
    "triangle, pentagonal, hexagonal = [], [], []\n",
    "for i in range(1,200000):\n",
    "    pentagonal.append(i*(3*i-1)//2)\n",
    "    hexagonal.append(i*(2*i-1))\n",
    "for j in range(1,200000):\n",
    "    triangle.append(j*(j+1)//2)\n",
    "    if triangle[j-1] in pentagonal and triangle[j-1] in hexagonal:\n",
    "        print(triangle[j-1])"
   ]
  },
  {
   "cell_type": "code",
   "execution_count": null,
   "outputs": [],
   "source": [],
   "metadata": {
    "collapsed": false
   },
   "id": "ba9e0aa0f1afcf72"
  }
 ],
 "metadata": {
  "kernelspec": {
   "display_name": "Python 3",
   "language": "python",
   "name": "python3"
  },
  "language_info": {
   "codemirror_mode": {
    "name": "ipython",
    "version": 2
   },
   "file_extension": ".py",
   "mimetype": "text/x-python",
   "name": "python",
   "nbconvert_exporter": "python",
   "pygments_lexer": "ipython2",
   "version": "2.7.6"
  }
 },
 "nbformat": 4,
 "nbformat_minor": 5
}
