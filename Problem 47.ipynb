{
 "cells": [
  {
   "cell_type": "code",
   "execution_count": 44,
   "id": "initial_id",
   "metadata": {
    "collapsed": true,
    "ExecuteTime": {
     "end_time": "2023-08-16T16:16:29.448799Z",
     "start_time": "2023-08-16T16:16:29.443714Z"
    }
   },
   "outputs": [],
   "source": [
    "def gen_primes():\n",
    "    \"\"\" Generate an infinite sequence of prime numbers.\n",
    "    \"\"\"\n",
    "    D = {}\n",
    "    q = 2\n",
    "    while True:\n",
    "        if q not in D:\n",
    "            yield q\n",
    "            D[q * q] = [q]\n",
    "        else:\n",
    "            for p in D[q]:\n",
    "                D.setdefault(p + q, []).append(p)\n",
    "            del D[q]\n",
    "        q += 1"
   ]
  },
  {
   "cell_type": "code",
   "execution_count": 45,
   "outputs": [],
   "source": [
    "def prime_factorization(n):\n",
    "    generator = gen_primes()\n",
    "    if n == 1:\n",
    "        return ''\n",
    "    primes = []\n",
    "    for p in generator:\n",
    "        if p > n:\n",
    "            break\n",
    "        primes.append(p)\n",
    "    # factors = []\n",
    "    for p in primes:\n",
    "        if n % p == 0:\n",
    "            return str(p) + ' ' + str(prime_factorization(n // p))"
   ],
   "metadata": {
    "collapsed": false,
    "ExecuteTime": {
     "end_time": "2023-08-16T16:16:30.122725Z",
     "start_time": "2023-08-16T16:16:30.119124Z"
    }
   },
   "id": "add07f4406024ca1"
  },
  {
   "cell_type": "code",
   "execution_count": 53,
   "outputs": [
    {
     "name": "stdout",
     "output_type": "stream",
     "text": [
      "['2', '3', '5', '5']\n"
     ]
    }
   ],
   "source": [
    "x = prime_factorization(150)\n",
    "factors_list = x.split(\" \")\n",
    "del factors_list[-1]\n",
    "print(factors_list)"
   ],
   "metadata": {
    "collapsed": false,
    "ExecuteTime": {
     "end_time": "2023-08-16T16:17:27.175575Z",
     "start_time": "2023-08-16T16:17:27.170799Z"
    }
   },
   "id": "3acab95c762f8f11"
  },
  {
   "cell_type": "code",
   "execution_count": 31,
   "outputs": [
    {
     "name": "stdout",
     "output_type": "stream",
     "text": [
      "[99, 1, 223]\n"
     ]
    }
   ],
   "source": [
    "test = [1,3,7,9]\n",
    "test = [99,1,223]\n",
    "print(test)"
   ],
   "metadata": {
    "collapsed": false,
    "ExecuteTime": {
     "end_time": "2023-08-16T01:49:12.260245Z",
     "start_time": "2023-08-16T01:49:12.250336Z"
    }
   },
   "id": "82b6e476697add4d"
  },
  {
   "cell_type": "code",
   "execution_count": null,
   "outputs": [],
   "source": [],
   "metadata": {
    "collapsed": false
   },
   "id": "f2ae84620c2d2681"
  }
 ],
 "metadata": {
  "kernelspec": {
   "display_name": "Python 3",
   "language": "python",
   "name": "python3"
  },
  "language_info": {
   "codemirror_mode": {
    "name": "ipython",
    "version": 2
   },
   "file_extension": ".py",
   "mimetype": "text/x-python",
   "name": "python",
   "nbconvert_exporter": "python",
   "pygments_lexer": "ipython2",
   "version": "2.7.6"
  }
 },
 "nbformat": 4,
 "nbformat_minor": 5
}
