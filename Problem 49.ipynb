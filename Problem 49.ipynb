{
 "cells": [
  {
   "cell_type": "code",
   "execution_count": 45,
   "outputs": [],
   "source": [
    "def gen_primes():\n",
    "    \"\"\" Generate an infinite sequence of prime numbers.\n",
    "    \"\"\"\n",
    "    D = {}\n",
    "    q = 2\n",
    "    while True:\n",
    "        if q not in D:\n",
    "            yield q\n",
    "            D[q * q] = [q]\n",
    "        else:\n",
    "            for p in D[q]:\n",
    "                D.setdefault(p + q, []).append(p)\n",
    "            del D[q]\n",
    "        q += 1\n",
    "generator = gen_primes()"
   ],
   "metadata": {
    "collapsed": false,
    "ExecuteTime": {
     "end_time": "2023-08-15T16:29:03.704523Z",
     "start_time": "2023-08-15T16:29:03.702383Z"
    }
   },
   "id": "21bd9616ec39378a"
  },
  {
   "cell_type": "code",
   "execution_count": 46,
   "outputs": [],
   "source": [
    "def permutation(lst):\n",
    "    if len(lst) == 0:\n",
    "        return []\n",
    "    if len(lst) == 1:\n",
    "        return [lst]\n",
    "    l = [] # empty list that will store current permutation\n",
    "    for i in range(len(lst)):\n",
    "       m = lst[i]\n",
    "       remLst = lst[:i] + lst[i+1:]\n",
    "       for p in permutation(remLst):\n",
    "           l.append([m] + p)\n",
    "    return l"
   ],
   "metadata": {
    "collapsed": false,
    "ExecuteTime": {
     "end_time": "2023-08-15T16:29:04.195861Z",
     "start_time": "2023-08-15T16:29:04.191081Z"
    }
   },
   "id": "142609f924845d4e"
  },
  {
   "cell_type": "code",
   "execution_count": 47,
   "outputs": [],
   "source": [
    "primes = []\n",
    "for p in generator:\n",
    "    if p > 10000:\n",
    "        break\n",
    "    primes.append(p)"
   ],
   "metadata": {
    "collapsed": false,
    "ExecuteTime": {
     "end_time": "2023-08-15T16:29:04.867512Z",
     "start_time": "2023-08-15T16:29:04.855053Z"
    }
   },
   "id": "684bc50f14119c4a"
  },
  {
   "cell_type": "code",
   "execution_count": 48,
   "outputs": [
    {
     "name": "stdout",
     "output_type": "stream",
     "text": [
      "1487 4817 8147\n",
      "2969 6299 9629\n"
     ]
    },
    {
     "ename": "KeyboardInterrupt",
     "evalue": "",
     "output_type": "error",
     "traceback": [
      "\u001B[0;31m---------------------------------------------------------------------------\u001B[0m",
      "\u001B[0;31mKeyboardInterrupt\u001B[0m                         Traceback (most recent call last)",
      "Cell \u001B[0;32mIn[48], line 4\u001B[0m\n\u001B[1;32m      2\u001B[0m \u001B[38;5;28;01mfor\u001B[39;00m p2 \u001B[38;5;129;01min\u001B[39;00m primes:\n\u001B[1;32m      3\u001B[0m     \u001B[38;5;28;01mfor\u001B[39;00m p3 \u001B[38;5;129;01min\u001B[39;00m primes:\n\u001B[0;32m----> 4\u001B[0m         \u001B[38;5;28;01mif\u001B[39;00m p3 \u001B[38;5;241m-\u001B[39m p2 \u001B[38;5;241m==\u001B[39m p2 \u001B[38;5;241m-\u001B[39m \u001B[43mp1\u001B[49m \u001B[38;5;129;01mand\u001B[39;00m \u001B[38;5;28mlist\u001B[39m(\u001B[38;5;28mstr\u001B[39m(p3)) \u001B[38;5;129;01min\u001B[39;00m permutation(\u001B[38;5;28mlist\u001B[39m(\u001B[38;5;28mstr\u001B[39m(p2))) \u001B[38;5;129;01mand\u001B[39;00m \u001B[38;5;28mlist\u001B[39m(\u001B[38;5;28mstr\u001B[39m(p1)) \u001B[38;5;129;01min\u001B[39;00m permutation(\u001B[38;5;28mlist\u001B[39m(\u001B[38;5;28mstr\u001B[39m(p2))) \u001B[38;5;129;01mand\u001B[39;00m p1 \u001B[38;5;241m!=\u001B[39m p2:\n\u001B[1;32m      5\u001B[0m             \u001B[38;5;28mprint\u001B[39m(p1, p2, p3)\n",
      "\u001B[0;31mKeyboardInterrupt\u001B[0m: "
     ]
    }
   ],
   "source": [
    "for p1 in primes:\n",
    "    for p2 in primes:\n",
    "        for p3 in primes:\n",
    "            if p3 - p2 == p2 - p1 and list(str(p3)) in permutation(list(str(p2))) and list(str(p1)) in permutation(list(str(p2))) and p1 != p2:\n",
    "                print(p1, p2, p3)\n"
   ],
   "metadata": {
    "collapsed": false,
    "ExecuteTime": {
     "end_time": "2023-08-15T16:30:09.190071Z",
     "start_time": "2023-08-15T16:29:05.738031Z"
    }
   },
   "id": "a99f27cc92082ffc"
  },
  {
   "cell_type": "code",
   "execution_count": null,
   "outputs": [],
   "source": [],
   "metadata": {
    "collapsed": false
   },
   "id": "2bd43fabc7873b44"
  }
 ],
 "metadata": {
  "kernelspec": {
   "display_name": "Python 3",
   "language": "python",
   "name": "python3"
  },
  "language_info": {
   "codemirror_mode": {
    "name": "ipython",
    "version": 2
   },
   "file_extension": ".py",
   "mimetype": "text/x-python",
   "name": "python",
   "nbconvert_exporter": "python",
   "pygments_lexer": "ipython2",
   "version": "2.7.6"
  }
 },
 "nbformat": 4,
 "nbformat_minor": 5
}
