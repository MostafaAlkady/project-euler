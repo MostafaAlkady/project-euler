{
 "cells": [
  {
   "cell_type": "markdown",
   "metadata": {},
   "source": [
    "Notice the cubes have to contain the same number of digits. So we fix the number of digits and generate all the cubes that consist of this number of digits."
   ]
  },
  {
   "cell_type": "code",
   "execution_count": 43,
   "metadata": {},
   "outputs": [
    {
     "name": "stdout",
     "output_type": "stream",
     "text": [
      "length of cubes array: 5359\n",
      "found candidate: 127035954683\n"
     ]
    }
   ],
   "source": [
    "import numpy as np\n",
    "\n",
    "def is_permutation(n, m):\n",
    "    return sorted(str(n)) == sorted(str(m))\n",
    "\n",
    "cubes = []\n",
    "number_of_digits = 12\n",
    "lower_limit = int(np.cbrt(10**(number_of_digits-1)))\n",
    "upper_limit = int(np.cbrt(10**number_of_digits))\n",
    "\n",
    "for i in range(lower_limit, upper_limit):\n",
    "    cubes.append(i**3)\n",
    "\n",
    "print(\"length of cubes array:\", len(cubes))\n",
    "\n",
    "for i in range(len(cubes)):\n",
    "    count = 1\n",
    "    for j in range(i+1, len(cubes)):\n",
    "        if is_permutation(cubes[i], cubes[j]):\n",
    "            count += 1\n",
    "    if count == 5:\n",
    "        print(\"found candidate:\", cubes[i])\n",
    "        break"
   ]
  }
 ],
 "metadata": {
  "kernelspec": {
   "display_name": "Python 3",
   "language": "python",
   "name": "python3"
  },
  "language_info": {
   "codemirror_mode": {
    "name": "ipython",
    "version": 3
   },
   "file_extension": ".py",
   "mimetype": "text/x-python",
   "name": "python",
   "nbconvert_exporter": "python",
   "pygments_lexer": "ipython3",
   "version": "3.11.5"
  }
 },
 "nbformat": 4,
 "nbformat_minor": 2
}
