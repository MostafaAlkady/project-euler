{
 "cells": [
  {
   "cell_type": "code",
   "execution_count": 2,
   "metadata": {},
   "outputs": [],
   "source": [
    "import numpy as np"
   ]
  },
  {
   "cell_type": "code",
   "execution_count": 102,
   "metadata": {},
   "outputs": [
    {
     "name": "stdout",
     "output_type": "stream",
     "text": [
      "[0, 1, 1, 2, 3, 5, 8, 13, 21, 34, 55, 89, 144, 233, 377, 610, 987, 1597, 2584, 4181, 6765, 10946, 17711, 28657, 46368, 75025, 121393, 196418, 317811, 514229, 832040, 1346269, 2178309, 3524578, 5702887, 9227465, 14930352, 24157817, 39088169, 63245986, 102334155, 165580141, 267914296, 433494437, 701408733, 1134903170, 1836311903, 2971215073, 4807526976, 7778742049, 12586269025, 20365011074, 32951280099, 53316291173, 86267571272, 139583862445, 225851433717, 365435296162, 591286729879, 956722026041, 1548008755920, 2504730781961, 4052739537881, 6557470319842, 10610209857723, 17167680177565, 27777890035288, 44945570212853, 72723460248141, 117669030460994, 190392490709135, 308061521170129, 498454011879264, 806515533049393, 1304969544928657, 2111485077978050, 3416454622906707, 5527939700884757, 8944394323791464, 14472334024676221, 23416728348467685, 37889062373143906, 61305790721611591, 99194853094755497, 160500643816367088, 259695496911122585, 420196140727489673, 679891637638612258, 1100087778366101931, 1779979416004714189]\n"
     ]
    }
   ],
   "source": [
    "# generate 90 fibonacci numbers\n",
    "fib = [0, 1]\n",
    "for i in range(2, 90):\n",
    "    fib.append(fib[i-1] + fib[i-2])\n",
    "\n",
    "print(fib)"
   ]
  },
  {
   "cell_type": "code",
   "execution_count": 91,
   "metadata": {},
   "outputs": [],
   "source": [
    "def old_s(n, i=1): \n",
    "    '''discard this function, it is not efficient for large n'''\n",
    "    if n == 0:\n",
    "        return 0\n",
    "    for i in range(i, 9999999999999):\n",
    "        individual_digits = [int(x) for x in str(i)]\n",
    "        if sum(individual_digits) == n:\n",
    "            return i\n",
    "\n",
    "def s(n):\n",
    "    result = ''\n",
    "    for i in range(1, n//9 + 1):\n",
    "        result += '9'\n",
    "    result = str(n - (9*(n//9))) + result\n",
    "    return int(result)\n",
    "\n",
    "def S(n, k):\n",
    "    return sum([s(n) for n in range(n, k+1)]) % 1000000007"
   ]
  },
  {
   "cell_type": "code",
   "execution_count": 94,
   "metadata": {},
   "outputs": [
    {
     "name": "stdout",
     "output_type": "stream",
     "text": [
      "now calculating:  2\n",
      "now calculating:  3\n",
      "now calculating:  4\n",
      "now calculating:  5\n",
      "now calculating:  6\n",
      "now calculating:  7\n",
      "now calculating:  8\n",
      "now calculating:  9\n",
      "now calculating:  10\n",
      "now calculating:  11\n",
      "now calculating:  12\n",
      "now calculating:  13\n",
      "now calculating:  14\n",
      "now calculating:  15\n",
      "now calculating:  16\n",
      "now calculating:  17\n",
      "now calculating:  18\n",
      "now calculating:  19\n",
      "now calculating:  20\n",
      "now calculating:  21\n",
      "now calculating:  22\n",
      "now calculating:  23\n",
      "now calculating:  24\n"
     ]
    },
    {
     "ename": "ValueError",
     "evalue": "Exceeds the limit (4300 digits) for integer string conversion: value has 4301 digits; use sys.set_int_max_str_digits() to increase the limit",
     "output_type": "error",
     "traceback": [
      "\u001b[0;31m---------------------------------------------------------------------------\u001b[0m",
      "\u001b[0;31mValueError\u001b[0m                                Traceback (most recent call last)",
      "Cell \u001b[0;32mIn[94], line 5\u001b[0m\n\u001b[1;32m      3\u001b[0m \u001b[38;5;28;01mfor\u001b[39;00m i \u001b[38;5;129;01min\u001b[39;00m \u001b[38;5;28mrange\u001b[39m(\u001b[38;5;241m2\u001b[39m,\u001b[38;5;241m90\u001b[39m):\n\u001b[1;32m      4\u001b[0m     \u001b[38;5;28mprint\u001b[39m(\u001b[38;5;124m\"\u001b[39m\u001b[38;5;124mnow calculating: \u001b[39m\u001b[38;5;124m\"\u001b[39m, i)\n\u001b[0;32m----> 5\u001b[0m     result \u001b[38;5;241m+\u001b[39m\u001b[38;5;241m=\u001b[39m \u001b[43mS\u001b[49m\u001b[43m(\u001b[49m\u001b[43mfib\u001b[49m\u001b[43m[\u001b[49m\u001b[43mi\u001b[49m\u001b[38;5;241;43m-\u001b[39;49m\u001b[38;5;241;43m1\u001b[39;49m\u001b[43m]\u001b[49m\u001b[43m,\u001b[49m\u001b[43m \u001b[49m\u001b[43mfib\u001b[49m\u001b[43m[\u001b[49m\u001b[43mi\u001b[49m\u001b[43m]\u001b[49m\u001b[43m \u001b[49m\u001b[38;5;241;43m-\u001b[39;49m\u001b[43m \u001b[49m\u001b[38;5;241;43m1\u001b[39;49m\u001b[43m)\u001b[49m\n\u001b[1;32m      6\u001b[0m     \u001b[38;5;28;01mif\u001b[39;00m \u001b[38;5;28mlen\u001b[39m(\u001b[38;5;28mstr\u001b[39m(result)) \u001b[38;5;241m>\u001b[39m \u001b[38;5;241m12\u001b[39m:\n\u001b[1;32m      7\u001b[0m         result \u001b[38;5;241m%\u001b[39m\u001b[38;5;241m=\u001b[39m \u001b[38;5;241m1000000007\u001b[39m\n",
      "Cell \u001b[0;32mIn[91], line 18\u001b[0m, in \u001b[0;36mS\u001b[0;34m(n, k)\u001b[0m\n\u001b[1;32m     17\u001b[0m \u001b[38;5;28;01mdef\u001b[39;00m \u001b[38;5;21mS\u001b[39m(n, k):\n\u001b[0;32m---> 18\u001b[0m     \u001b[38;5;28;01mreturn\u001b[39;00m \u001b[38;5;28msum\u001b[39m(\u001b[43m[\u001b[49m\u001b[43ms\u001b[49m\u001b[43m(\u001b[49m\u001b[43mn\u001b[49m\u001b[43m)\u001b[49m\u001b[43m \u001b[49m\u001b[38;5;28;43;01mfor\u001b[39;49;00m\u001b[43m \u001b[49m\u001b[43mn\u001b[49m\u001b[43m \u001b[49m\u001b[38;5;129;43;01min\u001b[39;49;00m\u001b[43m \u001b[49m\u001b[38;5;28;43mrange\u001b[39;49m\u001b[43m(\u001b[49m\u001b[43mn\u001b[49m\u001b[43m,\u001b[49m\u001b[43m \u001b[49m\u001b[43mk\u001b[49m\u001b[38;5;241;43m+\u001b[39;49m\u001b[38;5;241;43m1\u001b[39;49m\u001b[43m)\u001b[49m\u001b[43m]\u001b[49m)\n",
      "Cell \u001b[0;32mIn[91], line 18\u001b[0m, in \u001b[0;36m<listcomp>\u001b[0;34m(.0)\u001b[0m\n\u001b[1;32m     17\u001b[0m \u001b[38;5;28;01mdef\u001b[39;00m \u001b[38;5;21mS\u001b[39m(n, k):\n\u001b[0;32m---> 18\u001b[0m     \u001b[38;5;28;01mreturn\u001b[39;00m \u001b[38;5;28msum\u001b[39m([\u001b[43ms\u001b[49m\u001b[43m(\u001b[49m\u001b[43mn\u001b[49m\u001b[43m)\u001b[49m \u001b[38;5;28;01mfor\u001b[39;00m n \u001b[38;5;129;01min\u001b[39;00m \u001b[38;5;28mrange\u001b[39m(n, k\u001b[38;5;241m+\u001b[39m\u001b[38;5;241m1\u001b[39m)])\n",
      "Cell \u001b[0;32mIn[91], line 15\u001b[0m, in \u001b[0;36ms\u001b[0;34m(n)\u001b[0m\n\u001b[1;32m     13\u001b[0m     result \u001b[38;5;241m+\u001b[39m\u001b[38;5;241m=\u001b[39m \u001b[38;5;124m'\u001b[39m\u001b[38;5;124m9\u001b[39m\u001b[38;5;124m'\u001b[39m\n\u001b[1;32m     14\u001b[0m result \u001b[38;5;241m=\u001b[39m \u001b[38;5;28mstr\u001b[39m(n \u001b[38;5;241m-\u001b[39m (\u001b[38;5;241m9\u001b[39m\u001b[38;5;241m*\u001b[39m(n\u001b[38;5;241m/\u001b[39m\u001b[38;5;241m/\u001b[39m\u001b[38;5;241m9\u001b[39m))) \u001b[38;5;241m+\u001b[39m result\n\u001b[0;32m---> 15\u001b[0m \u001b[38;5;28;01mreturn\u001b[39;00m \u001b[38;5;28;43mint\u001b[39;49m\u001b[43m(\u001b[49m\u001b[43mresult\u001b[49m\u001b[43m)\u001b[49m\n",
      "\u001b[0;31mValueError\u001b[0m: Exceeds the limit (4300 digits) for integer string conversion: value has 4301 digits; use sys.set_int_max_str_digits() to increase the limit"
     ]
    }
   ],
   "source": [
    "result = 0\n",
    "start = 1\n",
    "for i in range(2,90):\n",
    "    print(\"now calculating: \", i)\n",
    "    result += S(fib[i-1], fib[i] - 1)\n",
    "    if len(str(result)) > 12:\n",
    "        result %= 1000000007\n",
    "\n",
    "print(result % 1000000007)"
   ]
  },
  {
   "cell_type": "markdown",
   "metadata": {},
   "source": [
    "Draft:"
   ]
  },
  {
   "cell_type": "code",
   "execution_count": 4,
   "metadata": {},
   "outputs": [
    {
     "data": {
      "text/plain": [
       "17"
      ]
     },
     "execution_count": 4,
     "metadata": {},
     "output_type": "execute_result"
    }
   ],
   "source": [
    "test = 1268\n",
    "individual_digits = [int(x) for x in str(test)]\n",
    "np.sum(individual_digits)"
   ]
  }
 ],
 "metadata": {
  "kernelspec": {
   "display_name": "Python 3",
   "language": "python",
   "name": "python3"
  },
  "language_info": {
   "codemirror_mode": {
    "name": "ipython",
    "version": 3
   },
   "file_extension": ".py",
   "mimetype": "text/x-python",
   "name": "python",
   "nbconvert_exporter": "python",
   "pygments_lexer": "ipython3",
   "version": "3.11.5"
  }
 },
 "nbformat": 4,
 "nbformat_minor": 2
}
