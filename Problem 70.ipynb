{
 "cells": [
  {
   "cell_type": "code",
   "execution_count": 10,
   "metadata": {},
   "outputs": [],
   "source": [
    "import numpy as np\n",
    "\n",
    "def prime_factors(n):\n",
    "    i = 2\n",
    "    factors = []\n",
    "    while i * i <= n:\n",
    "        if n % i:\n",
    "            i += 1\n",
    "        else:\n",
    "            n //= i\n",
    "            factors.append(i)\n",
    "    if n > 1:\n",
    "        factors.append(n)\n",
    "    return factors\n",
    "\n",
    "def phi(n):\n",
    "    return round(n * np.prod([1 - 1/p for p in set(prime_factors(n))]))\n",
    "\n",
    "def is_permutation(a, b):\n",
    "    return sorted(str(a)) == sorted(str(b))"
   ]
  },
  {
   "cell_type": "code",
   "execution_count": 12,
   "metadata": {},
   "outputs": [
    {
     "name": "stdout",
     "output_type": "stream",
     "text": [
      "21 12 1.75\n",
      "291 192 1.515625\n",
      "2817 1872 1.5048076923076923\n",
      "2991 1992 1.5015060240963856\n",
      "4435 3544 1.2514108352144468\n",
      "20617 20176 1.0218576526566217\n",
      "45421 44512 1.0204214593817398\n",
      "69271 67912 1.020011190952998\n",
      "75841 75184 1.0087385613960418\n",
      "162619 161296 1.008202311278643\n",
      "176569 175696 1.0049688097623168\n",
      "284029 282940 1.0038488725524846\n",
      "400399 399040 1.00340567361668\n",
      "474883 473488 1.002946220389957\n",
      "now calculating: 500000\n",
      "732031 730312 1.0023537885177842\n",
      "778669 776896 1.0022821587445423\n",
      "783169 781396 1.0022690159662961\n",
      "now calculating: 1000000\n",
      "1014109 1011904 1.0021790604642338\n",
      "1288663 1286368 1.0017840928878827\n",
      "now calculating: 1500000\n",
      "1504051 1501504 1.0016962991773581\n",
      "1514419 1511944 1.0016369653902526\n",
      "1924891 1921984 1.0015124995837634\n",
      "1956103 1953160 1.0015067889983411\n",
      "now calculating: 2000000\n",
      "2006737 2003776 1.0014777100833625\n",
      "2044501 2041504 1.001468035330815\n",
      "2094901 2091904 1.0014326661261703\n",
      "2239261 2236192 1.0013724224038008\n",
      "now calculating: 2500000\n",
      "2710627 2707216 1.001259965957648\n",
      "2868469 2864896 1.0012471656911803\n",
      "now calculating: 3000000\n",
      "now calculating: 3500000\n",
      "3582907 3578920 1.0011140232248834\n",
      "3689251 3685192 1.0011014351491048\n",
      "now calculating: 4000000\n",
      "4198273 4193728 1.0010837612739787\n",
      "now calculating: 4500000\n",
      "4696009 4690960 1.00107632552825\n",
      "now calculating: 5000000\n",
      "5050429 5045920 1.0008935932396867\n",
      "5380657 5375860 1.000892322344704\n",
      "now calculating: 5500000\n",
      "5886817 5881876 1.00084003811029\n",
      "now calculating: 6000000\n",
      "6018163 6013168 1.000830676941007\n",
      "now calculating: 6500000\n",
      "6636841 6631684 1.0007776305384877\n",
      "now calculating: 7000000\n",
      "7026037 7020736 1.0007550490432913\n",
      "7357291 7351792 1.000747980900439\n",
      "now calculating: 7500000\n",
      "7507321 7501732 1.0007450279482124\n",
      "now calculating: 8000000\n",
      "8316907 8310976 1.0007136345959848\n",
      "8319823 8313928 1.0007090511248113\n",
      "now calculating: 8500000\n",
      "now calculating: 9000000\n",
      "now calculating: 9500000\n",
      "now calculating: 10000000\n"
     ]
    }
   ],
   "source": [
    "minimum = 10000000\n",
    "upper_limit = 10000001\n",
    "for i in range(2,upper_limit):\n",
    "    if i % 500000 == 0:\n",
    "        print(\"now calculating:\", i)\n",
    "    if is_permutation(str(i), str(int(phi(i)))) and i/phi(i) < minimum:\n",
    "        print(i, phi(i), i/phi(i))\n",
    "        minimum = i/phi(i)"
   ]
  }
 ],
 "metadata": {
  "kernelspec": {
   "display_name": "Python 3",
   "language": "python",
   "name": "python3"
  },
  "language_info": {
   "codemirror_mode": {
    "name": "ipython",
    "version": 3
   },
   "file_extension": ".py",
   "mimetype": "text/x-python",
   "name": "python",
   "nbconvert_exporter": "python",
   "pygments_lexer": "ipython3",
   "version": "3.11.5"
  }
 },
 "nbformat": 4,
 "nbformat_minor": 2
}
