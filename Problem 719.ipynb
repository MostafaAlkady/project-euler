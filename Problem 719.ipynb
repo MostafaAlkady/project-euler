{
 "cells": [
  {
   "cell_type": "code",
   "execution_count": 117,
   "id": "0d9d06d9",
   "metadata": {},
   "outputs": [],
   "source": [
    "def partitions(s):\n",
    "    if len(s) > 0:\n",
    "        for i in range(1, len(s)+1):\n",
    "            first, rest = s[:i], s[i:]\n",
    "            for p in partitions(rest):\n",
    "                yield [first] + p\n",
    "    else:\n",
    "        yield []"
   ]
  },
  {
   "cell_type": "code",
   "execution_count": 118,
   "id": "c0f7fcf9",
   "metadata": {},
   "outputs": [],
   "source": [
    "def possible_sums(num):\n",
    "    totals = []\n",
    "    for i in partitions(str(num)):\n",
    "        if len(i) > 1:\n",
    "            int_list = list(map(int, i))\n",
    "            totals.append(sum(int_list))\n",
    "    \n",
    "    return totals"
   ]
  },
  {
   "cell_type": "code",
   "execution_count": 119,
   "id": "e3191ccd",
   "metadata": {},
   "outputs": [],
   "source": [
    "our_list = []\n",
    "for i in range(1,1_000_001):\n",
    "    our_list.append(i**2)"
   ]
  },
  {
   "cell_type": "code",
   "execution_count": 120,
   "id": "1127432c",
   "metadata": {},
   "outputs": [
    {
     "name": "stdout",
     "output_type": "stream",
     "text": [
      "81\n",
      "100\n",
      "1296\n",
      "2025\n",
      "3025\n",
      "6724\n",
      "8281\n",
      "9801\n",
      "10000\n",
      "41333\n"
     ]
    }
   ],
   "source": [
    "import math\n",
    "count = 0\n",
    "t_n = 0\n",
    "\n",
    "for num in our_list:\n",
    "    count += 1\n",
    "    if count % 100000 == 0:\n",
    "        print(\"Now calculating:\", count)\n",
    "    if math.sqrt(num) in possible_sums(num):\n",
    "        t_n += num\n",
    "        \n",
    "print(t_n)"
   ]
  },
  {
   "cell_type": "code",
   "execution_count": null,
   "id": "fe110922",
   "metadata": {},
   "outputs": [],
   "source": []
  }
 ],
 "metadata": {
  "kernelspec": {
   "display_name": "Python 3 (ipykernel)",
   "language": "python",
   "name": "python3"
  },
  "language_info": {
   "codemirror_mode": {
    "name": "ipython",
    "version": 3
   },
   "file_extension": ".py",
   "mimetype": "text/x-python",
   "name": "python",
   "nbconvert_exporter": "python",
   "pygments_lexer": "ipython3",
   "version": "3.11.4"
  }
 },
 "nbformat": 4,
 "nbformat_minor": 5
}
