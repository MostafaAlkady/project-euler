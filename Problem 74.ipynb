{
 "cells": [
  {
   "cell_type": "code",
   "execution_count": 13,
   "metadata": {},
   "outputs": [
    {
     "name": "stdout",
     "output_type": "stream",
     "text": [
      "now at 100000\n",
      "now at 200000\n",
      "now at 300000\n",
      "now at 400000\n",
      "now at 500000\n",
      "now at 600000\n",
      "now at 700000\n",
      "now at 800000\n",
      "now at 900000\n",
      "402\n"
     ]
    }
   ],
   "source": [
    "import math \n",
    "\n",
    "def factorial_chain(n):\n",
    "    return sum(math.factorial(int(i)) for i in str(n))\n",
    "\n",
    "def chain_length(n):\n",
    "    chain = [n]\n",
    "    while True:\n",
    "        n = factorial_chain(n)\n",
    "        if n in chain:\n",
    "            # print(chain)\n",
    "            return len(chain)\n",
    "        chain.append(n)\n",
    "\n",
    "count = 0\n",
    "\n",
    "for i in range(1,1000000):\n",
    "    if i % 100000 == 0:\n",
    "        print(\"now at\", i)\n",
    "    if chain_length(i) == 60:\n",
    "        count += 1\n",
    "\n",
    "print(count)"
   ]
  }
 ],
 "metadata": {
  "kernelspec": {
   "display_name": "Python 3",
   "language": "python",
   "name": "python3"
  },
  "language_info": {
   "codemirror_mode": {
    "name": "ipython",
    "version": 3
   },
   "file_extension": ".py",
   "mimetype": "text/x-python",
   "name": "python",
   "nbconvert_exporter": "python",
   "pygments_lexer": "ipython3",
   "version": "3.11.5"
  }
 },
 "nbformat": 4,
 "nbformat_minor": 2
}
