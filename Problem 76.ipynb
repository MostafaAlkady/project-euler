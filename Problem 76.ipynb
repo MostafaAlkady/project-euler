{
 "cells": [
  {
   "cell_type": "markdown",
   "metadata": {},
   "source": [
    "Ammar's"
   ]
  },
  {
   "cell_type": "code",
   "execution_count": null,
   "metadata": {},
   "outputs": [
    {
     "name": "stdout",
     "output_type": "stream",
     "text": [
      "[None, 1, None, None, None, None, None, None, None, None, None, None, None, None, None, None, None, None, None, None, None]\n",
      "[None, 1, 2, None, None, None, None, None, None, None, None, None, None, None, None, None, None, None, None, None, None]\n",
      "[None, 1, 2, 3, None, None, None, None, None, None, None, None, None, None, None, None, None, None, None, None, None]\n",
      "[None, 1, 2, 3, 5, None, None, None, None, None, None, None, None, None, None, None, None, None, None, None, None]\n",
      "[None, 1, 2, 3, 5, 7, None, None, None, None, None, None, None, None, None, None, None, None, None, None, None]\n",
      "[None, 1, 2, 3, 5, 7, 10, None, None, None, None, None, None, None, None, None, None, None, None, None, None]\n",
      "[None, 1, 2, 3, 5, 7, 10, 13, None, None, None, None, None, None, None, None, None, None, None, None, None]\n",
      "[None, 1, 2, 3, 5, 7, 10, 13, 17, None, None, None, None, None, None, None, None, None, None, None, None]\n",
      "[None, 1, 2, 3, 5, 7, 10, 13, 17, 21, None, None, None, None, None, None, None, None, None, None, None]\n",
      "[None, 1, 2, 3, 5, 7, 10, 13, 17, 21, 26, None, None, None, None, None, None, None, None, None, None]\n",
      "[None, 1, 2, 3, 5, 7, 10, 13, 17, 21, 26, 31, None, None, None, None, None, None, None, None, None]\n",
      "[None, 1, 2, 3, 5, 7, 10, 13, 17, 21, 26, 31, 37, None, None, None, None, None, None, None, None]\n",
      "[None, 1, 2, 3, 5, 7, 10, 13, 17, 21, 26, 31, 37, 43, None, None, None, None, None, None, None]\n",
      "[None, 1, 2, 3, 5, 7, 10, 13, 17, 21, 26, 31, 37, 43, 50, None, None, None, None, None, None]\n",
      "[None, 1, 2, 3, 5, 7, 10, 13, 17, 21, 26, 31, 37, 43, 50, 57, None, None, None, None, None]\n",
      "[None, 1, 2, 3, 5, 7, 10, 13, 17, 21, 26, 31, 37, 43, 50, 57, 65, None, None, None, None]\n",
      "[None, 1, 2, 3, 5, 7, 10, 13, 17, 21, 26, 31, 37, 43, 50, 57, 65, 73, None, None, None]\n",
      "[None, 1, 2, 3, 5, 7, 10, 13, 17, 21, 26, 31, 37, 43, 50, 57, 65, 73, 82, None, None]\n",
      "[None, 1, 2, 3, 5, 7, 10, 13, 17, 21, 26, 31, 37, 43, 50, 57, 65, 73, 82, 91, None]\n",
      "[None, 1, 2, 3, 5, 7, 10, 13, 17, 21, 26, 31, 37, 43, 50, 57, 65, 73, 82, 91, 101]\n"
     ]
    },
    {
     "data": {
      "text/plain": [
       "101"
      ]
     },
     "execution_count": 5,
     "metadata": {},
     "output_type": "execute_result"
    }
   ],
   "source": [
    "def lookup_table(i, memo):\n",
    "\n",
    "    if memo[i] != None:\n",
    "        result = memo[i]\n",
    "    elif i == 1:\n",
    "        result = 1\n",
    "    # elif i == 2:\n",
    "    #     result = 1\n",
    "    # elif i == 3:\n",
    "    #     result = 2\n",
    "    else:\n",
    "        result =  + lookup_table(i-1, memo)\n",
    "    memo[i] = result\n",
    "    print(memo)\n",
    "\n",
    "    return result\n",
    "\n",
    "def run(i):\n",
    "\n",
    "    memo = []\n",
    "    for _ in range(i + 1):\n",
    "        memo.append(None)\n",
    "    return int(lookup_table(i, memo))\n",
    "\n",
    "run(20)"
   ]
  },
  {
   "cell_type": "markdown",
   "metadata": {},
   "source": [
    "Sarah's solution:"
   ]
  },
  {
   "cell_type": "code",
   "execution_count": 157,
   "metadata": {},
   "outputs": [
    {
     "ename": "KeyboardInterrupt",
     "evalue": "",
     "output_type": "error",
     "traceback": [
      "\u001b[0;31m---------------------------------------------------------------------------\u001b[0m",
      "\u001b[0;31mKeyboardInterrupt\u001b[0m                         Traceback (most recent call last)",
      "Cell \u001b[0;32mIn[157], line 19\u001b[0m\n\u001b[1;32m     16\u001b[0m     \u001b[38;5;28;01mreturn\u001b[39;00m ans\n\u001b[1;32m     18\u001b[0m \u001b[38;5;28;01mfor\u001b[39;00m i \u001b[38;5;129;01min\u001b[39;00m \u001b[38;5;28mrange\u001b[39m(\u001b[38;5;241m999999\u001b[39m):\n\u001b[0;32m---> 19\u001b[0m     \u001b[38;5;28;01mif\u001b[39;00m \u001b[43mf\u001b[49m\u001b[43m(\u001b[49m\u001b[43mi\u001b[49m\u001b[43m,\u001b[49m\u001b[43mi\u001b[49m\u001b[43m)\u001b[49m \u001b[38;5;241m%\u001b[39m \u001b[38;5;241m10\u001b[39m\u001b[38;5;241m*\u001b[39m\u001b[38;5;241m*\u001b[39m\u001b[38;5;241m6\u001b[39m \u001b[38;5;241m==\u001b[39m \u001b[38;5;241m0\u001b[39m:\n\u001b[1;32m     20\u001b[0m         \u001b[38;5;28mprint\u001b[39m(i)\n\u001b[1;32m     21\u001b[0m         \u001b[38;5;28;01mbreak\u001b[39;00m\n",
      "Cell \u001b[0;32mIn[157], line 11\u001b[0m, in \u001b[0;36mf\u001b[0;34m(x, y)\u001b[0m\n\u001b[1;32m      9\u001b[0m ans \u001b[38;5;241m=\u001b[39m \u001b[38;5;241m0\u001b[39m;\n\u001b[1;32m     10\u001b[0m \u001b[38;5;28;01mfor\u001b[39;00m i \u001b[38;5;129;01min\u001b[39;00m \u001b[38;5;28mrange\u001b[39m(\u001b[38;5;241m1\u001b[39m,y \u001b[38;5;241m+\u001b[39m \u001b[38;5;241m1\u001b[39m):\n\u001b[0;32m---> 11\u001b[0m     ans \u001b[38;5;241m+\u001b[39m\u001b[38;5;241m=\u001b[39m \u001b[43mf\u001b[49m\u001b[43m(\u001b[49m\u001b[43mx\u001b[49m\u001b[38;5;241;43m-\u001b[39;49m\u001b[43mi\u001b[49m\u001b[43m,\u001b[49m\u001b[43m \u001b[49m\u001b[38;5;28;43mmin\u001b[39;49m\u001b[43m(\u001b[49m\u001b[43mx\u001b[49m\u001b[38;5;241;43m-\u001b[39;49m\u001b[43mi\u001b[49m\u001b[43m,\u001b[49m\u001b[43m \u001b[49m\u001b[43mi\u001b[49m\u001b[43m)\u001b[49m\u001b[43m)\u001b[49m\n\u001b[1;32m     12\u001b[0m \u001b[38;5;28;01mif\u001b[39;00m x \u001b[38;5;241m<\u001b[39m y:\n\u001b[1;32m     13\u001b[0m     ans\u001b[38;5;241m+\u001b[39m\u001b[38;5;241m=\u001b[39m\u001b[38;5;241m1\u001b[39m\n",
      "Cell \u001b[0;32mIn[157], line 11\u001b[0m, in \u001b[0;36mf\u001b[0;34m(x, y)\u001b[0m\n\u001b[1;32m      9\u001b[0m ans \u001b[38;5;241m=\u001b[39m \u001b[38;5;241m0\u001b[39m;\n\u001b[1;32m     10\u001b[0m \u001b[38;5;28;01mfor\u001b[39;00m i \u001b[38;5;129;01min\u001b[39;00m \u001b[38;5;28mrange\u001b[39m(\u001b[38;5;241m1\u001b[39m,y \u001b[38;5;241m+\u001b[39m \u001b[38;5;241m1\u001b[39m):\n\u001b[0;32m---> 11\u001b[0m     ans \u001b[38;5;241m+\u001b[39m\u001b[38;5;241m=\u001b[39m f(x\u001b[38;5;241m-\u001b[39mi, \u001b[38;5;28mmin\u001b[39m(x\u001b[38;5;241m-\u001b[39mi, i))\n\u001b[1;32m     12\u001b[0m \u001b[38;5;28;01mif\u001b[39;00m x \u001b[38;5;241m<\u001b[39m y:\n\u001b[1;32m     13\u001b[0m     ans\u001b[38;5;241m+\u001b[39m\u001b[38;5;241m=\u001b[39m\u001b[38;5;241m1\u001b[39m\n",
      "\u001b[0;31mKeyboardInterrupt\u001b[0m: "
     ]
    }
   ],
   "source": [
    "mem  = {}\n",
    "def f(x, y):\n",
    "    if (x, y) in mem:\n",
    "        return mem[(x,y)]\n",
    "    if x == 0:\n",
    "        return 1\n",
    "    if x == 1:\n",
    "        return 1\n",
    "    ans = 0;\n",
    "    for i in range(1,y + 1):\n",
    "        ans += f(x-i, min(x-i, i))\n",
    "    if x < y:\n",
    "        ans+=1\n",
    "    \n",
    "    mem[(x,y)] = ans\n",
    "    return ans\n",
    "    \n",
    "for i in range(999999):\n",
    "    if f(i,i) % 10**6 == 0:\n",
    "        print(i)\n",
    "        break\n"
   ]
  }
 ],
 "metadata": {
  "kernelspec": {
   "display_name": "Python 3",
   "language": "python",
   "name": "python3"
  },
  "language_info": {
   "codemirror_mode": {
    "name": "ipython",
    "version": 3
   },
   "file_extension": ".py",
   "mimetype": "text/x-python",
   "name": "python",
   "nbconvert_exporter": "python",
   "pygments_lexer": "ipython3",
   "version": "3.11.5"
  }
 },
 "nbformat": 4,
 "nbformat_minor": 2
}
