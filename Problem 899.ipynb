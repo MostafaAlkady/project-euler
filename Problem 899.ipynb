{
 "cells": [
  {
   "cell_type": "code",
   "execution_count": 25,
   "metadata": {},
   "outputs": [
    {
     "name": "stdout",
     "output_type": "stream",
     "text": [
      "[11, 2]\n",
      "[9, 4]\n",
      "[7, 2]\n",
      "[7, 6]\n",
      "[5, 2]\n",
      "[3, 4]\n",
      "[2, 2]\n"
     ]
    },
    {
     "data": {
      "text/plain": [
       "[[], [[]], [[], [[]]]]"
      ]
     },
     "execution_count": 25,
     "metadata": {},
     "output_type": "execute_result"
    }
   ],
   "source": [
    "def is_winning(x): # x is a list of 2 numbers\n",
    "    chains = []\n",
    "    maximum = max(x) # assume this is odd (the even case is known)\n",
    "    minimum = min(x)\n",
    "    possibilities = []\n",
    "    for i in range(2,minimum,2):\n",
    "        pair = [maximum-i,i]\n",
    "        possibilities.append(pair)\n",
    "        chains.append(is_winning(pair))\n",
    "    return chains\n",
    "\n",
    "is_winning([13,8])\n"
   ]
  },
  {
   "cell_type": "code",
   "execution_count": 47,
   "metadata": {},
   "outputs": [
    {
     "data": {
      "text/plain": [
       "True"
      ]
     },
     "execution_count": 47,
     "metadata": {},
     "output_type": "execute_result"
    }
   ],
   "source": [
    "def is_winning(x):\n",
    "    if max(x) % 2 == 0: # if the maximum is even, the first player wins\n",
    "        return True\n",
    "    if max(x) % 2 == 1: \n",
    "        if min(x) == 1:\n",
    "            return False\n",
    "        elif max(x) % 4 == 1:\n",
    "            return True\n",
    "        elif max(x) % 4 == 3:\n",
    "            return False\n",
    "\n",
    "is_winning([13,4])"
   ]
  },
  {
   "cell_type": "code",
   "execution_count": 48,
   "metadata": {},
   "outputs": [
    {
     "name": "stdout",
     "output_type": "stream",
     "text": [
      "613\n"
     ]
    }
   ],
   "source": [
    "count = 0\n",
    "for i in range(1,50):\n",
    "    for j in range(i,50):\n",
    "        if not is_winning([i,j]) and i != j:\n",
    "            count += 2\n",
    "        elif not is_winning([i,j]) and i == j:\n",
    "            count += 1\n",
    "\n",
    "print(count)"
   ]
  }
 ],
 "metadata": {
  "kernelspec": {
   "display_name": "Python 3",
   "language": "python",
   "name": "python3"
  },
  "language_info": {
   "codemirror_mode": {
    "name": "ipython",
    "version": 3
   },
   "file_extension": ".py",
   "mimetype": "text/x-python",
   "name": "python",
   "nbconvert_exporter": "python",
   "pygments_lexer": "ipython3",
   "version": "3.11.5"
  }
 },
 "nbformat": 4,
 "nbformat_minor": 2
}
