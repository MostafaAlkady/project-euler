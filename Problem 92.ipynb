{
 "cells": [
  {
   "cell_type": "code",
   "execution_count": 22,
   "metadata": {},
   "outputs": [
    {
     "name": "stdout",
     "output_type": "stream",
     "text": [
      "8581145\n"
     ]
    }
   ],
   "source": [
    "count = 0\n",
    "count_2 = 0\n",
    "for i in range(1,10000001):\n",
    "    # if i % 1000000 == 0:\n",
    "    #     print(\"Now calculating:\", i)\n",
    "    n = i\n",
    "    while n != 89 and n != 1:\n",
    "        new_n = 0\n",
    "        for j in range(len(str(n))):\n",
    "            new_n += int(str(n)[j])**2\n",
    "        if new_n == 89:\n",
    "            count += 1\n",
    "        # elif new_n == 1:\n",
    "        #     count_2 += 1\n",
    "        n = new_n\n",
    "\n",
    "print(count)\n"
   ]
  },
  {
   "cell_type": "markdown",
   "metadata": {},
   "source": [
    "Correct answer is 8581146. I don't know what's up with the number that is not showing up in my code!"
   ]
  },
  {
   "cell_type": "markdown",
   "metadata": {},
   "source": []
  }
 ],
 "metadata": {
  "kernelspec": {
   "display_name": "Python 3",
   "language": "python",
   "name": "python3"
  },
  "language_info": {
   "codemirror_mode": {
    "name": "ipython",
    "version": 3
   },
   "file_extension": ".py",
   "mimetype": "text/x-python",
   "name": "python",
   "nbconvert_exporter": "python",
   "pygments_lexer": "ipython3",
   "version": "3.9.6"
  },
  "orig_nbformat": 4
 },
 "nbformat": 4,
 "nbformat_minor": 2
}
