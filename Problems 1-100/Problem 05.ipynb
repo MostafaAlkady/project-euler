{
 "cells": [
  {
   "cell_type": "markdown",
   "metadata": {},
   "source": [
    "This problem can be solved without code. First, the number needs to have all the primes between 1 and 20 in its prime factorization. Second, the non-primes have to be a product of its factors as well. <br>\n",
    "4 = 2 * 2 <br>\n",
    "6 = 2 * 3 <br>\n",
    "8 = 2 * 2 * 2<br>\n",
    "9 = 3 * 3<br>\n",
    "10 = 2 * 5<br>\n",
    "12 = 2 * 2 * 3<br>\n",
    "14 = 2 * 7<br>\n",
    "16 = 2 * 2 * 2 * 2<br><br>\n",
    "which means we should have 2^4 and 3^2, as well as the rest of the primes.<br>\n",
    "Therefore the number is 2 x 2 x 2 x 2 x 3 x 3 x 5 x 7 x 11 x 13 x 17 x 19 = 232792560"
   ]
  }
 ],
 "metadata": {
  "kernelspec": {
   "display_name": "base",
   "language": "python",
   "name": "python3"
  },
  "language_info": {
   "codemirror_mode": {
    "name": "ipython",
    "version": 3
   },
   "file_extension": ".py",
   "mimetype": "text/x-python",
   "name": "python",
   "nbconvert_exporter": "python",
   "pygments_lexer": "ipython3",
   "version": "3.11.9"
  }
 },
 "nbformat": 4,
 "nbformat_minor": 2
}
