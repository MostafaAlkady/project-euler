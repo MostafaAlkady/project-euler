{
 "cells": [
  {
   "cell_type": "code",
   "execution_count": null,
   "metadata": {},
   "outputs": [
    {
     "name": "stdout",
     "output_type": "stream",
     "text": [
      "837799\n"
     ]
    }
   ],
   "source": [
    "maximum = 0\n",
    "for i in range (1,1000000):\n",
    "  num = i\n",
    "  count = 0\n",
    "  while num !=1:\n",
    "    if num % 2 == 0:\n",
    "      num /= 2\n",
    "      count+= 1\n",
    "    else:\n",
    "      num = 3*num+1\n",
    "      count+= 1\n",
    "  if count > maximum:\n",
    "    maximum = count\n",
    "    answer = i\n",
    "    \n",
    "print(answer)"
   ]
  }
 ],
 "metadata": {
  "kernelspec": {
   "display_name": "Python 3",
   "language": "python",
   "name": "python3"
  },
  "language_info": {
   "codemirror_mode": {
    "name": "ipython",
    "version": 3
   },
   "file_extension": ".py",
   "mimetype": "text/x-python",
   "name": "python",
   "nbconvert_exporter": "python",
   "pygments_lexer": "ipython3",
   "version": "3.11.5"
  }
 },
 "nbformat": 4,
 "nbformat_minor": 2
}
