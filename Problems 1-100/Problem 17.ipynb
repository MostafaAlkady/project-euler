{
 "cells": [
  {
   "cell_type": "markdown",
   "metadata": {},
   "source": [
    "Straightforward:"
   ]
  },
  {
   "cell_type": "code",
   "execution_count": 1,
   "metadata": {},
   "outputs": [
    {
     "name": "stdout",
     "output_type": "stream",
     "text": [
      "21124\n"
     ]
    }
   ],
   "source": [
    "#count from 1 to 99:\n",
    "count0=3+3+5+4+4+3+5+5+4\n",
    "count1=count0+3+(6+6+8+8+7+7+9+8+8+6)+6*9+count0+6*10+count0+5*10+count0+5*10+count0+5*10+count0+7*10+count0+6*10+count0+6*10+count0\n",
    "\n",
    "#count 100,200,...:\n",
    "count2=10+10+12+11+11+10+12+12+11\n",
    "#count from 101 to 999 (excluding 200,300,...)\n",
    "count3=count1*9+99*(13+13+15+14+14+13+15+15+14)\n",
    "\n",
    "count=count1+count2+count3+11\n",
    "print(count)"
   ]
  }
 ],
 "metadata": {
  "kernelspec": {
   "display_name": "Python 3",
   "language": "python",
   "name": "python3"
  },
  "language_info": {
   "codemirror_mode": {
    "name": "ipython",
    "version": 3
   },
   "file_extension": ".py",
   "mimetype": "text/x-python",
   "name": "python",
   "nbconvert_exporter": "python",
   "pygments_lexer": "ipython3",
   "version": "3.11.5"
  }
 },
 "nbformat": 4,
 "nbformat_minor": 2
}
