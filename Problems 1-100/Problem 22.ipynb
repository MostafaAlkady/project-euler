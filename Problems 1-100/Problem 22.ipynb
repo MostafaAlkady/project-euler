{
 "cells": [
  {
   "cell_type": "code",
   "execution_count": null,
   "metadata": {},
   "outputs": [],
   "source": [
    "f = open('p022_names.txt', 'r')\n",
    "content=f.readline()\n",
    "content=content.replace('''\",\"''',\",\")\n",
    "content=content.replace('''\"''',\"\")\n",
    "lst=content.split(\",\") #contains all names\n",
    "lst.sort()\n",
    "lst2=[] #contains the scores\n",
    "for i in lst:\n",
    "  worth=0\n",
    "  for char in i:\n",
    "    worth+=ord(char)-64\n",
    "  lst2.append((lst.index(i)+1)*worth)\n",
    "sum=0\n",
    "for i in range(len(lst)):\n",
    "  sum+=lst2[i]\n",
    "print(sum)"
   ]
  }
 ],
 "metadata": {
  "language_info": {
   "name": "python"
  }
 },
 "nbformat": 4,
 "nbformat_minor": 2
}
