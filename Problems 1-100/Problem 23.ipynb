{
 "cells": [
  {
   "cell_type": "code",
   "execution_count": 1,
   "outputs": [],
   "source": [
    "import numpy as np"
   ],
   "metadata": {
    "collapsed": false,
    "ExecuteTime": {
     "end_time": "2023-08-09T21:16:42.633055Z",
     "start_time": "2023-08-09T21:16:42.573883Z"
    }
   },
   "id": "d079e50327a04512"
  },
  {
   "cell_type": "code",
   "execution_count": 70,
   "id": "initial_id",
   "metadata": {
    "collapsed": true,
    "ExecuteTime": {
     "end_time": "2023-08-09T21:43:35.108709Z",
     "start_time": "2023-08-09T21:43:35.104433Z"
    }
   },
   "outputs": [],
   "source": [
    "def generate_divisors(n): #generates an ordered list of divisors of n\n",
    "    array = []\n",
    "    for i in range(1, int(n**(1/2))+1):\n",
    "        if n % i == 0:\n",
    "            array.append(i)\n",
    "            if i != (n // i):\n",
    "                array.append(n // i)\n",
    "    array.sort()\n",
    "    return array"
   ]
  },
  {
   "cell_type": "code",
   "execution_count": 81,
   "outputs": [],
   "source": [
    "def generate_abundant(n): #generates all abundant numbers less than n\n",
    "    array = []\n",
    "    for i in range(1,n):\n",
    "        if sum(generate_divisors(i)[:-1]) > i:\n",
    "            array.append(i)\n",
    "    return array"
   ],
   "metadata": {
    "collapsed": false,
    "ExecuteTime": {
     "end_time": "2023-08-09T21:49:08.348279Z",
     "start_time": "2023-08-09T21:49:08.342529Z"
    }
   },
   "id": "8e18fac3131a7dbb"
  },
  {
   "cell_type": "code",
   "execution_count": 102,
   "outputs": [
    {
     "name": "stdout",
     "output_type": "stream",
     "text": [
      "The sum of such numbers is: 4179871\n"
     ]
    }
   ],
   "source": [
    "n = 28124\n",
    "x = generate_abundant(n)\n",
    "unwanted_list, wanted_list = [], []\n",
    "#unwanted_list contains numbers that CAN be written as a sum of two abundant terms, wanted_list are the number that CANNOT be written as a sum of two abundant numbers\n",
    "for i in x:\n",
    "    for j in x:\n",
    "        if i + j < n:\n",
    "            unwanted_list.append(i+j)\n",
    "unique_unwanted_list = set(unwanted_list)\n",
    "#This removes all repeated elements from the array\n",
    "for i in range(n):\n",
    "    if i not in unique_unwanted_list:\n",
    "        wanted_list.append(i)\n",
    "print(\"The sum of such numbers is:\",sum(wanted_list))"
   ],
   "metadata": {
    "collapsed": false,
    "ExecuteTime": {
     "end_time": "2023-08-09T22:31:40.714854Z",
     "start_time": "2023-08-09T22:31:36.476744Z"
    }
   },
   "id": "a1f2624ad7aa57e7"
  },
  {
   "cell_type": "markdown",
   "source": [
    "Very efficient and concise way to do it (Thanks to norvig on ProjectEuler):"
   ],
   "metadata": {
    "collapsed": false
   },
   "id": "e84b52c8d2a36df6"
  },
  {
   "cell_type": "code",
   "execution_count": 111,
   "outputs": [
    {
     "name": "stdout",
     "output_type": "stream",
     "text": [
      "4179871\n"
     ]
    }
   ],
   "source": [
    "abundants = set(i for i in range(1,28124) if sum(generate_divisors(i)[:-1]) > i)\n",
    "def abundantsum(i):\n",
    "    return any(i-a in abundants for a in abundants)\n",
    "print(sum(i for i in range(1,28124) if not abundantsum(i)))"
   ],
   "metadata": {
    "collapsed": false,
    "ExecuteTime": {
     "end_time": "2023-08-09T23:12:26.768924Z",
     "start_time": "2023-08-09T23:12:26.070919Z"
    }
   },
   "id": "27af3378ee41134d"
  },
  {
   "cell_type": "code",
   "execution_count": null,
   "outputs": [],
   "source": [],
   "metadata": {
    "collapsed": false
   },
   "id": "e1059169311c8708"
  }
 ],
 "metadata": {
  "kernelspec": {
   "display_name": "Python 3",
   "language": "python",
   "name": "python3"
  },
  "language_info": {
   "codemirror_mode": {
    "name": "ipython",
    "version": 2
   },
   "file_extension": ".py",
   "mimetype": "text/x-python",
   "name": "python",
   "nbconvert_exporter": "python",
   "pygments_lexer": "ipython2",
   "version": "2.7.6"
  }
 },
 "nbformat": 4,
 "nbformat_minor": 5
}
