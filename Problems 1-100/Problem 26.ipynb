{
 "cells": [
  {
   "cell_type": "code",
   "execution_count": 125,
   "id": "initial_id",
   "metadata": {
    "collapsed": true,
    "ExecuteTime": {
     "end_time": "2023-08-13T01:34:22.315590Z",
     "start_time": "2023-08-13T01:34:22.312626Z"
    }
   },
   "outputs": [],
   "source": [
    "# def detect_repeated(x: str): # with recursion\n",
    "#     my_string = ''\n",
    "#     x = x + '.'\n",
    "#     if len(x)==2:\n",
    "#         return str(x[0])\n",
    "#     for i in range(len(x)):\n",
    "#         print(\"i:\",i)\n",
    "#         for j in range(i+1,len(x)):\n",
    "#             if x[i] == x[j]:\n",
    "#                 return str(x[i]) + str(detect_repeated(x[:i] + x[i+1:j] + x[j+1:]))\n",
    "#             else:\n",
    "#                 continue\n",
    "#         print(\"i:\",i,\"j:\",j)"
   ]
  },
  {
   "cell_type": "code",
   "execution_count": 336,
   "outputs": [],
   "source": [
    "from decimal import *\n",
    "\n",
    "getcontext().prec = 2023\n",
    "\n",
    "def sequence(d):\n",
    "    n = str(Decimal(1)/Decimal(d))\n",
    "    max_seq = 1000\n",
    "    cutoff = 50\n",
    "    n_max = 0\n",
    "    flag = False\n",
    "    if len(n) > 80:\n",
    "        for i in range(max_seq, -1, -1):\n",
    "            if flag:\n",
    "                n_max = i + 1\n",
    "            flag = False\n",
    "            for j in range(cutoff, len(n) - i - 1):\n",
    "                if n[j] != n[j+i]:\n",
    "                    flag = False\n",
    "                    break\n",
    "                flag = True\n",
    "\n",
    "    return n_max"
   ],
   "metadata": {
    "collapsed": false,
    "ExecuteTime": {
     "end_time": "2023-08-13T20:41:40.677401Z",
     "start_time": "2023-08-13T20:41:40.675102Z"
    }
   },
   "id": "52599a1367ae278b"
  },
  {
   "cell_type": "code",
   "execution_count": 339,
   "outputs": [
    {
     "data": {
      "text/plain": "0"
     },
     "execution_count": 339,
     "metadata": {},
     "output_type": "execute_result"
    }
   ],
   "source": [
    "sequence(1/610)"
   ],
   "metadata": {
    "collapsed": false,
    "ExecuteTime": {
     "end_time": "2023-08-13T20:42:29.104744Z",
     "start_time": "2023-08-13T20:42:29.099914Z"
    }
   },
   "id": "8aaf24670c07c661"
  },
  {
   "cell_type": "code",
   "execution_count": 329,
   "outputs": [],
   "source": [
    "def detect_repeated_2(x: str): #without recursion \n",
    "    my_string = ''\n",
    "    x = x + '.'\n",
    "    for i in range(len(x)):\n",
    "        # print(\"i:\",i)\n",
    "        if len(my_string) > 4 and x[i:i+3] == my_string[0:3]:\n",
    "            break\n",
    "        for j in range(i+1,len(x)):\n",
    "            if x[i] == x[j]:\n",
    "                my_string += str(x[i])\n",
    "                break\n",
    "            else:\n",
    "                continue\n",
    "        # print(\"i:\",i,\"j:\",j)\n",
    "    return my_string"
   ],
   "metadata": {
    "collapsed": false,
    "ExecuteTime": {
     "end_time": "2023-08-13T14:10:05.642962Z",
     "start_time": "2023-08-13T14:10:05.637645Z"
    }
   },
   "id": "b951a48d20746118"
  },
  {
   "cell_type": "code",
   "execution_count": 335,
   "outputs": [
    {
     "name": "stdout",
     "output_type": "stream",
     "text": [
      "3\n",
      "7\n",
      "17\n",
      "19\n",
      "23\n",
      "29\n",
      "47\n",
      "59\n",
      "61\n",
      "97\n",
      "109\n",
      "113\n",
      "131\n",
      "149\n",
      "167\n",
      "179\n",
      "181\n",
      "193\n",
      "223\n",
      "229\n",
      "233\n",
      "257\n",
      "263\n",
      "269\n",
      "289\n",
      "313\n",
      "337\n",
      "361\n",
      "367\n",
      "379\n",
      "383\n",
      "389\n",
      "419\n",
      "433\n",
      "461\n",
      "487\n",
      "491\n",
      "499\n",
      "503\n",
      "509\n",
      "541\n",
      "571\n",
      "577\n",
      "593\n",
      "619\n",
      "647\n",
      "659\n",
      "701\n",
      "709\n",
      "727\n",
      "743\n",
      "811\n",
      "821\n",
      "823\n",
      "857\n",
      "863\n",
      "887\n",
      "937\n"
     ]
    }
   ],
   "source": [
    "import decimal\n",
    "decimal.setcontext(decimal.Context(prec=1000))\n",
    "maximum_length = 0\n",
    "skipped_digits = 100\n",
    "for i in range(1,1005):\n",
    "    x = len(detect_repeated_2(str(decimal.Decimal(1)/decimal.Decimal(i))[skipped_digits:]))\n",
    "    if x > maximum_length:\n",
    "        maximum_length = x\n",
    "        print(i) "
   ],
   "metadata": {
    "collapsed": false,
    "ExecuteTime": {
     "end_time": "2023-08-13T15:44:53.611024Z",
     "start_time": "2023-08-13T15:44:53.575617Z"
    }
   },
   "id": "99cab064c6217595"
  },
  {
   "cell_type": "code",
   "execution_count": 333,
   "outputs": [
    {
     "name": "stdout",
     "output_type": "stream",
     "text": [
      "3140830800405268490374873353596757852077001013171225937183383991894630192502532928064842958459979736575481256332320162107396149949341438703140830800405268490374873353596757852077001013171225937183383991894630192502532928064842958459979736575481256332320162107396149949341438703140830800405268490374873353596757852077001013171225937183383991894630192502532928064842958459979736575481256332320162107396149949341438703140830800405268490374873353596757852077001013171225937183383991894630192502532928064842958459979736575481256332320162107396149949341438703140830800405268490374873353596757852077001013171225937183383991894630192502532928064842958459979736575481256332320162107396149949341438703140830800405268490374873353596757852077001013171225937183383991894630192502532928064842958459979736575481256332320162107396149949341438703140830800405268490374873353596757852077001013171225937183383991894630192503\n"
     ]
    },
    {
     "data": {
      "text/plain": "'314083080040526849037487335359675785207700101317122593718338399189463019250253292806484295845997973657548125633232016210739614994934143870'"
     },
     "execution_count": 333,
     "metadata": {},
     "output_type": "execute_result"
    }
   ],
   "source": [
    "import decimal\n",
    "n = 987\n",
    "print(str(decimal.Decimal(1)/decimal.Decimal(n))[skipped_digits:])\n",
    "detect_repeated_2(str(decimal.Decimal(1)/decimal.Decimal(n))[skipped_digits:])"
   ],
   "metadata": {
    "collapsed": false,
    "ExecuteTime": {
     "end_time": "2023-08-13T14:16:21.998770Z",
     "start_time": "2023-08-13T14:16:21.994090Z"
    }
   },
   "id": "1ad5ca6e77078ba4"
  },
  {
   "cell_type": "code",
   "execution_count": 279,
   "outputs": [
    {
     "name": "stdout",
     "output_type": "stream",
     "text": [
      "No repeating pattern found.\n"
     ]
    }
   ],
   "source": [
    "def find_repeating_pattern(s):\n",
    "    n = len(s)\n",
    "    for length in range(1, n // 2 + 1):\n",
    "        pattern = s[:length]\n",
    "        count = n // length\n",
    "        if pattern * count == s:\n",
    "            return pattern\n",
    "    return ''\n",
    "\n",
    "# Example usage\n",
    "input_string = \"abcabcabcabca\"\n",
    "repeating_pattern = find_repeating_pattern(input_string)\n",
    "\n",
    "if repeating_pattern:\n",
    "    print(f\"Repeating pattern: {repeating_pattern}\")\n",
    "else:\n",
    "    print(\"No repeating pattern found.\")"
   ],
   "metadata": {
    "collapsed": false,
    "ExecuteTime": {
     "end_time": "2023-08-13T03:14:57.213839Z",
     "start_time": "2023-08-13T03:14:57.209648Z"
    }
   },
   "id": "729ba7e4fad69d76"
  },
  {
   "cell_type": "code",
   "execution_count": 252,
   "outputs": [
    {
     "name": "stdout",
     "output_type": "stream",
     "text": [
      "14285714285714285\n"
     ]
    },
    {
     "data": {
      "text/plain": "''"
     },
     "execution_count": 252,
     "metadata": {},
     "output_type": "execute_result"
    }
   ],
   "source": [
    "import decimal\n",
    "n = 7\n",
    "print(str(1/n)[2:])\n",
    "find_repeating_pattern(str(1/n)[2:])"
   ],
   "metadata": {
    "collapsed": false,
    "ExecuteTime": {
     "end_time": "2023-08-13T03:02:27.957242Z",
     "start_time": "2023-08-13T03:02:27.950367Z"
    }
   },
   "id": "52a1c9e43cae0962"
  },
  {
   "cell_type": "code",
   "execution_count": 248,
   "outputs": [
    {
     "name": "stdout",
     "output_type": "stream",
     "text": [
      "3\n",
      "53\n"
     ]
    }
   ],
   "source": [
    "import decimal\n",
    "decimal.setcontext(decimal.Context(prec=1000))\n",
    "maximum_length = 0\n",
    "for i in range(1,1005):\n",
    "    x = len(find_repeating_pattern(str(decimal.Decimal(1)/decimal.Decimal(i))[2:]))\n",
    "    if x > maximum_length:\n",
    "        maximum_length = x\n",
    "        print(i)\n",
    "    "
   ],
   "metadata": {
    "collapsed": false,
    "ExecuteTime": {
     "end_time": "2023-08-13T02:58:34.287289Z",
     "start_time": "2023-08-13T02:58:34.265160Z"
    }
   },
   "id": "2d90dc5148ef01b8"
  },
  {
   "cell_type": "code",
   "execution_count": 310,
   "outputs": [
    {
     "data": {
      "text/plain": "'123454'"
     },
     "execution_count": 310,
     "metadata": {},
     "output_type": "execute_result"
    }
   ],
   "source": [
    "detect_repeated_2('1234594571234')"
   ],
   "metadata": {
    "collapsed": false,
    "ExecuteTime": {
     "end_time": "2023-08-13T03:43:01.804726Z",
     "start_time": "2023-08-13T03:43:01.800690Z"
    }
   },
   "id": "98f5321ef0eea595"
  },
  {
   "cell_type": "code",
   "execution_count": null,
   "outputs": [],
   "source": [],
   "metadata": {
    "collapsed": false
   },
   "id": "2fae5cb30d73581a"
  }
 ],
 "metadata": {
  "kernelspec": {
   "display_name": "Python 3",
   "language": "python",
   "name": "python3"
  },
  "language_info": {
   "codemirror_mode": {
    "name": "ipython",
    "version": 2
   },
   "file_extension": ".py",
   "mimetype": "text/x-python",
   "name": "python",
   "nbconvert_exporter": "python",
   "pygments_lexer": "ipython2",
   "version": "2.7.6"
  }
 },
 "nbformat": 4,
 "nbformat_minor": 5
}
