{
 "cells": [
  {
   "cell_type": "code",
   "execution_count": 27,
   "id": "initial_id",
   "metadata": {
    "collapsed": true,
    "ExecuteTime": {
     "end_time": "2023-08-12T20:47:48.778150Z",
     "start_time": "2023-08-12T20:47:48.774325Z"
    }
   },
   "outputs": [],
   "source": [
    "def is_prime(n): #check if n is a prime number\n",
    "    if n <= 1:\n",
    "        return False\n",
    "    for i in range(2, int(n**0.5) + 1):\n",
    "        if n % i == 0:\n",
    "            return False\n",
    "    return True"
   ]
  },
  {
   "cell_type": "code",
   "execution_count": 29,
   "outputs": [
    {
     "name": "stdout",
     "output_type": "stream",
     "text": [
      "a = -1001 . b = 2 Number of consecutive primes is: 1\n",
      "a = -996 . b = 997 Number of consecutive primes is: 2\n",
      "a = -499 . b = 997 Number of consecutive primes is: 3\n",
      "a = -325 . b = 977 Number of consecutive primes is: 4\n",
      "a = -245 . b = 977 Number of consecutive primes is: 5\n",
      "a = -197 . b = 983 Number of consecutive primes is: 6\n",
      "a = -163 . b = 983 Number of consecutive primes is: 7\n",
      "a = -131 . b = 941 Number of consecutive primes is: 8\n",
      "a = -121 . b = 947 Number of consecutive primes is: 9\n",
      "a = -105 . b = 967 Number of consecutive primes is: 11\n",
      "a = -61 . b = 971 Number of consecutive primes is: 71\n"
     ]
    }
   ],
   "source": [
    "limit = 1001\n",
    "maximum = 0\n",
    "for i in range(-limit, limit,1):\n",
    "    # if i % 100 == 0:\n",
    "    #     print(\"Now calculating the case a =\",i)\n",
    "    for j in range(-limit, limit,1):\n",
    "        n = 0\n",
    "        while is_prime(n**2 + i*n + j):\n",
    "            n+=1\n",
    "        if n > maximum:\n",
    "            maximum = n\n",
    "            print(\"a =\",i,\". b =\", j,\"Number of consecutive primes is:\", n)"
   ],
   "metadata": {
    "collapsed": false,
    "ExecuteTime": {
     "end_time": "2023-08-12T20:50:03.235152Z",
     "start_time": "2023-08-12T20:50:01.189376Z"
    }
   },
   "id": "a91449b34d02f592"
  },
  {
   "cell_type": "code",
   "execution_count": null,
   "outputs": [],
   "source": [],
   "metadata": {
    "collapsed": false
   },
   "id": "51d492f151f841a1"
  }
 ],
 "metadata": {
  "kernelspec": {
   "display_name": "Python 3",
   "language": "python",
   "name": "python3"
  },
  "language_info": {
   "codemirror_mode": {
    "name": "ipython",
    "version": 2
   },
   "file_extension": ".py",
   "mimetype": "text/x-python",
   "name": "python",
   "nbconvert_exporter": "python",
   "pygments_lexer": "ipython2",
   "version": "2.7.6"
  }
 },
 "nbformat": 4,
 "nbformat_minor": 5
}
