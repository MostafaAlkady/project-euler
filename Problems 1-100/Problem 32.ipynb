{
 "cells": [
  {
   "cell_type": "code",
   "execution_count": 2,
   "id": "initial_id",
   "metadata": {
    "collapsed": true,
    "ExecuteTime": {
     "end_time": "2023-08-10T02:17:48.699871Z",
     "start_time": "2023-08-10T02:17:48.694434Z"
    }
   },
   "outputs": [],
   "source": [
    "# Python function to print permutations of a given list\n",
    "def permutation(lst):\n",
    "\n",
    "    # If lst is empty then there are no permutations\n",
    "    if len(lst) == 0:\n",
    "        return []\n",
    "\n",
    "    # If there is only one element in lst then, only\n",
    "    # one permutation is possible\n",
    "    if len(lst) == 1:\n",
    "        return [lst]\n",
    "\n",
    "    # Find the permutations for lst if there are\n",
    "    # more than 1 characters\n",
    "\n",
    "    l = [] # empty list that will store current permutation\n",
    "\n",
    "    # Iterate the input(lst) and calculate the permutation\n",
    "    for i in range(len(lst)):\n",
    "       m = lst[i]\n",
    "\n",
    "       # Extract lst[i] or m from the list.  remLst is\n",
    "       # remaining list\n",
    "       remLst = lst[:i] + lst[i+1:]\n",
    "\n",
    "       # Generating all permutations where m is first\n",
    "       # element\n",
    "       for p in permutation(remLst):\n",
    "           l.append([m] + p)\n",
    "    return l"
   ]
  },
  {
   "cell_type": "code",
   "execution_count": 25,
   "outputs": [],
   "source": [
    "x = list('123456789')\n",
    "perm = permutation(x)"
   ],
   "metadata": {
    "collapsed": false,
    "ExecuteTime": {
     "end_time": "2023-08-10T02:37:10.042896Z",
     "start_time": "2023-08-10T02:37:09.265145Z"
    }
   },
   "id": "c6b3624dffa185ec"
  },
  {
   "cell_type": "code",
   "execution_count": 24,
   "outputs": [
    {
     "name": "stdout",
     "output_type": "stream",
     "text": [
      "100\n",
      "200\n",
      "300\n",
      "400\n",
      "500\n",
      "600\n",
      "700\n",
      "800\n",
      "900\n",
      "1000\n",
      "1100\n",
      "1200\n",
      "1300\n",
      "1400\n",
      "1500\n",
      "1600\n",
      "1700\n",
      "1800\n",
      "1900\n",
      "2000\n",
      "2100\n",
      "2200\n",
      "2300\n",
      "2400\n",
      "2500\n",
      "2600\n",
      "2700\n",
      "2800\n",
      "2900\n",
      "3000\n",
      "3100\n",
      "3200\n",
      "3300\n",
      "3400\n",
      "3500\n",
      "3600\n",
      "3700\n",
      "3800\n",
      "3900\n",
      "4000\n",
      "4100\n",
      "4200\n",
      "4300\n",
      "4400\n",
      "4500\n",
      "4600\n",
      "4700\n",
      "4800\n",
      "4900\n",
      "45228\n"
     ]
    }
   ],
   "source": [
    "l = []\n",
    "for i in range(1,5000):\n",
    "    for j in range(1,5000):\n",
    "        x = list(str(i) + str(j) + str(i*j))\n",
    "        x.sort()\n",
    "        if x == ['1','2','3','4','5','6','7','8','9']:\n",
    "            l.append(i*j)\n",
    "products = set(l)\n",
    "print(sum(products))"
   ],
   "metadata": {
    "collapsed": false,
    "ExecuteTime": {
     "end_time": "2023-08-10T02:36:28.965265Z",
     "start_time": "2023-08-10T02:36:05.256218Z"
    }
   },
   "id": "b2e372c3c695bcc8"
  }
 ],
 "metadata": {
  "kernelspec": {
   "display_name": "Python 3",
   "language": "python",
   "name": "python3"
  },
  "language_info": {
   "codemirror_mode": {
    "name": "ipython",
    "version": 2
   },
   "file_extension": ".py",
   "mimetype": "text/x-python",
   "name": "python",
   "nbconvert_exporter": "python",
   "pygments_lexer": "ipython2",
   "version": "2.7.6"
  }
 },
 "nbformat": 4,
 "nbformat_minor": 5
}
