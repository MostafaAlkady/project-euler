{
 "cells": [
  {
   "cell_type": "code",
   "execution_count": 1,
   "id": "initial_id",
   "metadata": {
    "collapsed": true,
    "ExecuteTime": {
     "end_time": "2023-08-13T18:38:31.427341Z",
     "start_time": "2023-08-13T18:38:31.424735Z"
    }
   },
   "outputs": [],
   "source": [
    "def gen_primes():\n",
    "    \"\"\" Generate an infinite sequence of prime numbers.\n",
    "    \"\"\"\n",
    "    # Maps composites to primes witnessing their compositeness.\n",
    "    # This is memory efficient, as the sieve is not \"run forward\"\n",
    "    # indefinitely, but only as long as required by the current\n",
    "    # number being tested.\n",
    "    #\n",
    "    D = {}\n",
    "    \n",
    "    # The running integer that's checked for primeness\n",
    "    q = 2\n",
    "    \n",
    "    while True:\n",
    "        if q not in D:\n",
    "            # q is a new prime.\n",
    "            # Yield it and mark its first multiple that isn't\n",
    "            # already marked in previous iterations\n",
    "            # \n",
    "            yield q\n",
    "            D[q * q] = [q]\n",
    "        else:\n",
    "            # q is composite. D[q] is the list of primes that\n",
    "            # divide it. Since we've reached q, we no longer\n",
    "            # need it in the map, but we'll mark the next \n",
    "            # multiples of its witnesses to prepare for larger\n",
    "            # numbers\n",
    "            # \n",
    "            for p in D[q]:\n",
    "                D.setdefault(p + q, []).append(p)\n",
    "            del D[q]\n",
    "        \n",
    "        q += 1\n"
   ]
  },
  {
   "cell_type": "code",
   "execution_count": 74,
   "outputs": [],
   "source": [
    "def all_rotations(x):\n",
    "    if len(x) == 1:\n",
    "        return x\n",
    "    x = list(str(x))\n",
    "    all_rotations_list = [None] * len(x)\n",
    "    for j in range(len(x)):\n",
    "        new_str = [None] * len(x)\n",
    "        for i in range(len(x)-1):\n",
    "            new_str[i] = x[i+1]\n",
    "            new_str[len(x)-1] = x[0]\n",
    "        all_rotations_list[j] = new_str\n",
    "        for i in range(len(x)):\n",
    "            x[i] = new_str[i]\n",
    "    unique_tuples = set(tuple(sublist) for sublist in all_rotations_list)\n",
    "    all_rotations_list_final = [list(sublist) for sublist in unique_tuples]\n",
    "\n",
    "    return all_rotations_list_final"
   ],
   "metadata": {
    "collapsed": false,
    "ExecuteTime": {
     "end_time": "2023-08-13T20:33:51.437558Z",
     "start_time": "2023-08-13T20:33:51.434312Z"
    }
   },
   "id": "d219c41d4c217b0d"
  },
  {
   "cell_type": "code",
   "execution_count": 62,
   "outputs": [],
   "source": [
    "def is_prime(n): #check if n is a prime number\n",
    "    n = int(n)\n",
    "    if n <= 1:\n",
    "        return False\n",
    "    for i in range(2, int(n**0.5) + 1):\n",
    "        if n % i == 0:\n",
    "            return False\n",
    "    return True"
   ],
   "metadata": {
    "collapsed": false,
    "ExecuteTime": {
     "end_time": "2023-08-13T20:23:41.464639Z",
     "start_time": "2023-08-13T20:23:41.462009Z"
    }
   },
   "id": "3496faf152768314"
  },
  {
   "cell_type": "code",
   "execution_count": 87,
   "outputs": [
    {
     "name": "stdout",
     "output_type": "stream",
     "text": [
      "55\n"
     ]
    }
   ],
   "source": [
    "number_of_circular_primes = 0\n",
    "for p in gen_primes():\n",
    "    count = 0\n",
    "    if p > 1000000:\n",
    "        break\n",
    "    else:\n",
    "        for rotation in all_rotations(str(p)):\n",
    "            # print(rotation)\n",
    "            num = ''.join(rotation)\n",
    "            # print(num)\n",
    "            if is_prime(num):\n",
    "                count += 1\n",
    "        if count == len(all_rotations(str(p))):\n",
    "            number_of_circular_primes += 1\n",
    "            # print(p)\n",
    "print(number_of_circular_primes)"
   ],
   "metadata": {
    "collapsed": false,
    "ExecuteTime": {
     "end_time": "2023-08-13T20:39:23.666410Z",
     "start_time": "2023-08-13T20:39:19.316182Z"
    }
   },
   "id": "d878b0982a64d548"
  }
 ],
 "metadata": {
  "kernelspec": {
   "display_name": "Python 3",
   "language": "python",
   "name": "python3"
  },
  "language_info": {
   "codemirror_mode": {
    "name": "ipython",
    "version": 2
   },
   "file_extension": ".py",
   "mimetype": "text/x-python",
   "name": "python",
   "nbconvert_exporter": "python",
   "pygments_lexer": "ipython2",
   "version": "2.7.6"
  }
 },
 "nbformat": 4,
 "nbformat_minor": 5
}
