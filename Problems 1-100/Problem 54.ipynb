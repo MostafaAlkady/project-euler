{
 "cells": [
  {
   "cell_type": "markdown",
   "metadata": {},
   "source": [
    "Stolen Code:"
   ]
  },
  {
   "cell_type": "code",
   "execution_count": 14,
   "metadata": {},
   "outputs": [
    {
     "name": "stdout",
     "output_type": "stream",
     "text": [
      "376\n"
     ]
    }
   ],
   "source": [
    "def rankHand(cards):\n",
    "    values = sorted(['23456789TJQKA'.find(c[0]) for c in cards])\n",
    "    isStraight = False not in [values[i] == values[0]+i for i in range(0, 5)]\n",
    "    isFlush = False not in [c[1] == cards[0][1] for c in cards]\n",
    "    vc = {}\n",
    "    for v in values:\n",
    "        vc[v] = values.count(v)\n",
    "    combos = sorted([(b, a) for a, b in vc.items()])\n",
    "    kinds = [c[0] for c in reversed(combos)]\n",
    "    kvalues = [c[1] for c in reversed(combos)]\n",
    "    if isStraight and isFlush and values[0] == 8:\n",
    "        return ['J:royal flush'] + kvalues\n",
    "    if isStraight and isFlush:\n",
    "        return ['I:straight flush'] + kvalues\n",
    "    if kinds[0] == 4:\n",
    "        return ['H:four kind'] + kvalues\n",
    "    if kinds[0] == 3 and kinds[1] == 2:\n",
    "        return ['G:full house'] + kvalues\n",
    "    if isFlush:\n",
    "        return ['F:flush'] + kvalues\n",
    "    if isStraight:\n",
    "        return ['E:straight'] + kvalues\n",
    "    if kinds[0] == 3:\n",
    "        return ['D:three kind'] + kvalues\n",
    "    if kinds[0] == 2 and kinds[1] == 2:\n",
    "        return ['C:two pair'] + kvalues\n",
    "    if kinds[0] == 2:\n",
    "        return ['B:pair'] + kvalues\n",
    "    return ['A:high'] + kvalues\n",
    "\n",
    "total = 0\n",
    "for l in open('0054_poker.txt'):\n",
    "    cards = l.split()\n",
    "    h1 = rankHand(cards[:5])    \n",
    "    h2 = rankHand(cards[5:])\n",
    "    if h1 > h2:\n",
    "        total = total + 1\n",
    "print(total)"
   ]
  },
  {
   "cell_type": "code",
   "execution_count": null,
   "metadata": {},
   "outputs": [],
   "source": []
  }
 ],
 "metadata": {
  "kernelspec": {
   "display_name": "Python 3",
   "language": "python",
   "name": "python3"
  },
  "language_info": {
   "codemirror_mode": {
    "name": "ipython",
    "version": 3
   },
   "file_extension": ".py",
   "mimetype": "text/x-python",
   "name": "python",
   "nbconvert_exporter": "python",
   "pygments_lexer": "ipython3",
   "version": "3.11.5"
  }
 },
 "nbformat": 4,
 "nbformat_minor": 2
}
