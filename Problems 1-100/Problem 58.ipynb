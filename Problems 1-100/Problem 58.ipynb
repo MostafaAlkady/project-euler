{
 "cells": [
  {
   "cell_type": "markdown",
   "metadata": {},
   "source": [
    "### Using the general formulae from Problem 28, we don't need to reproduce the spiral. "
   ]
  },
  {
   "cell_type": "code",
   "execution_count": 37,
   "metadata": {},
   "outputs": [],
   "source": [
    "def is_prime(n): #check if n is a prime number\n",
    "    if n <= 1:\n",
    "        return False\n",
    "    for i in range(2, int(n**0.5) + 1):\n",
    "        if n % i == 0:\n",
    "            return False\n",
    "    return True"
   ]
  },
  {
   "cell_type": "code",
   "execution_count": 62,
   "metadata": {},
   "outputs": [
    {
     "name": "stdout",
     "output_type": "stream",
     "text": [
      "Side length is: 26241 ratio: 0.09999809454850327\n"
     ]
    }
   ],
   "source": [
    "prime_count = 0\n",
    "end = 20000 #side length is (2 * end - 1)\n",
    "for i in range(1,end):\n",
    "    if is_prime(1+2*i*(2*i-1)):\n",
    "        prime_count += 1\n",
    "    if is_prime(1+2*i*(2*i+1)):\n",
    "        prime_count += 1\n",
    "    if is_prime(1+4*(i**2)):\n",
    "        prime_count += 1\n",
    "    total_number_of_numbers_on_diagonal = 4 * i - 3\n",
    "    ratio = prime_count / total_number_of_numbers_on_diagonal\n",
    "    if ratio < 0.1 and i>4:\n",
    "        print(\"Side length is:\", 2*i-1,\"ratio:\", ratio)\n",
    "        break\n"
   ]
  }
 ],
 "metadata": {
  "kernelspec": {
   "display_name": "Python 3",
   "language": "python",
   "name": "python3"
  },
  "language_info": {
   "codemirror_mode": {
    "name": "ipython",
    "version": 3
   },
   "file_extension": ".py",
   "mimetype": "text/x-python",
   "name": "python",
   "nbconvert_exporter": "python",
   "pygments_lexer": "ipython3",
   "version": "3.9.6"
  },
  "orig_nbformat": 4
 },
 "nbformat": 4,
 "nbformat_minor": 2
}
