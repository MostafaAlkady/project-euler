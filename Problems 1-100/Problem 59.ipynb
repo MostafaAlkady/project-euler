{
 "cells": [
  {
   "cell_type": "code",
   "execution_count": 35,
   "metadata": {},
   "outputs": [],
   "source": [
    "from collections import deque\n",
    "def decimal_to_binary(n):\n",
    "    if n == 0:\n",
    "        return 0\n",
    "    remainders = []\n",
    "    n = int(n)\n",
    "    if n == 1:\n",
    "        return '1'\n",
    "    while n != 1:\n",
    "        if n % 2 == 1:\n",
    "            remainders = deque(remainders)\n",
    "            remainders.appendleft('1')\n",
    "            n = n//2\n",
    "        else:\n",
    "            remainders = deque(remainders)\n",
    "            remainders.appendleft('0')\n",
    "            n = n//2\n",
    "    if n == 1:\n",
    "        remainders.appendleft('1')\n",
    "    else:\n",
    "        remainders.appendleft('0')\n",
    "    remainders = list(remainders)\n",
    "    binary = ''.join(remainders)\n",
    "    return binary"
   ]
  },
  {
   "cell_type": "code",
   "execution_count": 2,
   "metadata": {},
   "outputs": [],
   "source": [
    "def binary_to_decimal(binary_str):\n",
    "    decimal_num = 0\n",
    "    power = len(str(binary_str)) - 1  # Initialize the power of 2\n",
    "\n",
    "    for bit in str(binary_str):\n",
    "        if bit == '1':\n",
    "            decimal_num += 2 ** power  # Add 2 to the power of the current bit\n",
    "        power -= 1\n",
    "\n",
    "    return decimal_num"
   ]
  },
  {
   "cell_type": "markdown",
   "metadata": {},
   "source": [
    "### Strategy: \n",
    "Look for the most repeated number in the text file, it has to be a space. Calculate the indices of the occurences of this space and find the position mod 3 to determine which letter of the three characters in the key gives you the space."
   ]
  },
  {
   "cell_type": "code",
   "execution_count": 73,
   "metadata": {},
   "outputs": [
    {
     "name": "stdout",
     "output_type": "stream",
     "text": [
      "80\n",
      "112\n",
      "['36', '22', '80', '0', '0', '4', '23', '25', '19', '17', '88', '4', '4', '19']\n"
     ]
    }
   ],
   "source": [
    "letters = []\n",
    "with open('/Users/mostafaalkady/Downloads/0059_cipher.txt', 'r') as file:\n",
    "    file_contents = file.read()\n",
    "letters = file_contents.split(\",\")\n",
    "\n",
    "def most_frequent(List):\n",
    "    return max(set(List), key = List.count)\n",
    "print(most_frequent(letters))"
   ]
  },
  {
   "cell_type": "markdown",
   "metadata": {},
   "source": [
    "## Clean Code (After knowing the answer)"
   ]
  },
  {
   "cell_type": "code",
   "execution_count": 87,
   "metadata": {},
   "outputs": [
    {
     "name": "stdout",
     "output_type": "stream",
     "text": [
      "129448 \n",
      "An extract taken from the introduction of one of Euler's most celebrated papers, \"De summis serierum reciprocarum\" [On the sums of series of reciprocals]: I have recently found, quite unexpectedly, an elegant expression for the entire sum of this series 1 + 1/4 + 1/9 + 1/16 + etc., which depends on the quadrature of the circle, so that if the true sum of this series is obtained, from it at once the quadrature of the circle follows. Namely, I have found that the sum of this series is a sixth part of the square of the perimeter of the circle whose diameter is 1; or by putting the sum of this series equal to s, it has the ratio sqrt(6) multiplied by s to 1 of the perimeter to the diameter. I will soon show that the sum of this series to be approximately 1.644934066842264364; and from multiplying this number by six, and then taking the square root, the number 3.141592653589793238 is indeed produced, which expresses the perimeter of a circle whose diameter is 1. Following again the same steps by which I had arrived at this sum, I have discovered that the sum of the series 1 + 1/16 + 1/81 + 1/256 + 1/625 + etc. also depends on the quadrature of the circle. Namely, the sum of this multiplied by 90 gives the biquadrate (fourth power) of the circumference of the perimeter of a circle whose diameter is 1. And by similar reasoning I have likewise been able to determine the sums of the subsequent series in which the exponents are even numbers.\n"
     ]
    }
   ],
   "source": [
    "our_string = ''\n",
    "for h in range(len(letters)):\n",
    "    if h % 3 == 0:\n",
    "        our_string += chr(int(letters[h])^101)\n",
    "    elif h % 3 == 1:\n",
    "        our_string += chr(int(letters[h])^120)\n",
    "    else:\n",
    "        our_string += chr(int(letters[h])^112)\n",
    "answer = 0\n",
    "for char in our_string:\n",
    "    answer += ord(char)\n",
    "print(answer, \"\\n\" + our_string)"
   ]
  },
  {
   "cell_type": "markdown",
   "metadata": {},
   "source": [
    "## Dirty code while thinking"
   ]
  },
  {
   "cell_type": "code",
   "execution_count": 83,
   "metadata": {},
   "outputs": [
    {
     "name": "stdout",
     "output_type": "stream",
     "text": [
      "112 An extract taken from the introduction of one of Euler's most celebrated papers, \"De summis serierum reciprocarum\" [On the sums of series of reciprocals]: I have recently found, quite unexpectedly, an elegant expression for the entire sum of this series 1 + 1/4 + 1/9 + 1/16 + etc., which depends on the quadrature of the circle, so that if the true sum of this series is obtained, from it at once the quadrature of the circle follows. Namely, I have found that the sum of this series is a sixth part of the square of the perimeter of the circle whose diameter is 1; or by putting the sum of this series equal to s, it has the ratio sqrt(6) multiplied by s to 1 of the perimeter to the diameter. I will soon show that the sum of this series to be approximately 1.644934066842264364; and from multiplying this number by six, and then taking the square root, the number 3.141592653589793238 is indeed produced, which expresses the perimeter of a circle whose diameter is 1. Following again the same steps by which I had arrived at this sum, I have discovered that the sum of the series 1 + 1/16 + 1/81 + 1/256 + 1/625 + etc. also depends on the quadrature of the circle. Namely, the sum of this multiplied by 90 gives the biquadrate (fourth power) of the circumference of the perimeter of a circle whose diameter is 1. And by similar reasoning I have likewise been able to determine the sums of the subsequent series in which the exponents are even numbers.\n",
      "131662\n"
     ]
    }
   ],
   "source": [
    "count =0\n",
    "for i in range(101,102):\n",
    "    for j in range(120,121):\n",
    "        for k in range(97,123):\n",
    "            count += 1\n",
    "            # if count == 128:\n",
    "            #     print(i , j , k)\n",
    "            our_string = ''\n",
    "            for h in range(len(letters)):\n",
    "                # print(h, our_string)\n",
    "                if h % 3 == 0:\n",
    "                    our_string += chr(int(letters[h])^i)\n",
    "                elif h % 3 == 1:\n",
    "                    our_string += chr(int(letters[h])^j)\n",
    "                else:\n",
    "                    our_string += chr(int(letters[h])^k)\n",
    "            if \"from\" in our_string:\n",
    "                print(k , our_string)\n",
    "answer = 0\n",
    "for char in our_string:\n",
    "    answer += ord(char)\n",
    "print(answer)\n"
   ]
  },
  {
   "cell_type": "markdown",
   "metadata": {},
   "source": [
    "101, 120, 112 are the ASCII codes of the key characters"
   ]
  }
 ],
 "metadata": {
  "kernelspec": {
   "display_name": "Python 3",
   "language": "python",
   "name": "python3"
  },
  "language_info": {
   "codemirror_mode": {
    "name": "ipython",
    "version": 3
   },
   "file_extension": ".py",
   "mimetype": "text/x-python",
   "name": "python",
   "nbconvert_exporter": "python",
   "pygments_lexer": "ipython3",
   "version": "3.11.5"
  },
  "orig_nbformat": 4
 },
 "nbformat": 4,
 "nbformat_minor": 2
}
