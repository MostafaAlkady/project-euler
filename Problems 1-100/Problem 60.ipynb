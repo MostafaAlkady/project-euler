{
 "cells": [
  {
   "cell_type": "code",
   "execution_count": 14,
   "metadata": {},
   "outputs": [
    {
     "name": "stdout",
     "output_type": "stream",
     "text": [
      "17984\n"
     ]
    }
   ],
   "source": [
    "import numpy as np\n",
    "\n",
    "prime_numbers = []  # Declare the global variable\n",
    "\n",
    "def sieve_of_eratosthenes(limit):\n",
    "    global prime_numbers  # Declare that we are using the global variable\n",
    "    prime = [True] * (limit + 1)\n",
    "    p = 2\n",
    "\n",
    "    while p * p <= limit:\n",
    "        if prime[p]:\n",
    "            for i in range(p * p, limit + 1, p):\n",
    "                prime[i] = False\n",
    "        p += 1\n",
    "\n",
    "    prime_numbers = [p for p in range(2, limit + 1) if prime[p]]\n",
    "    return prime_numbers\n",
    "\n",
    "# Example usage\n",
    "limit = 200000\n",
    "primes = sieve_of_eratosthenes(limit)\n",
    "primes = np.array(primes)\n",
    "print(len(primes))\n",
    "\n",
    "def is_prime(n):\n",
    "    if n < 2:\n",
    "        return False\n",
    "    if n == 2:\n",
    "        return True\n",
    "    if n % 2 == 0:\n",
    "        return False\n",
    "    for i in range(3, int(n ** 0.5) + 1, 2):\n",
    "        if n % i == 0:\n",
    "            return False\n",
    "    return True"
   ]
  },
  {
   "cell_type": "markdown",
   "metadata": {},
   "source": [
    "Assuming these four primes are included in the five we're looking for -> failed."
   ]
  },
  {
   "cell_type": "code",
   "execution_count": 13,
   "metadata": {},
   "outputs": [],
   "source": [
    "for i in primes:\n",
    "    if is_prime(int(str(i)+'3')) and is_prime(int('3'+str(i))) and is_prime(int(str(i)+'7')) and is_prime(int('7'+str(i))) and is_prime(int('109'+str(i))) and is_prime(int(str(i)+'109')) and is_prime(int(str(i)+'673')) and is_prime(int('673'+str(i))):\n",
    "        print(i)\n",
    "        break"
   ]
  },
  {
   "cell_type": "markdown",
   "metadata": {},
   "source": [
    "Idea: Loop on primes and split them in all possible ways. If five of the resulting numbers are prime then we're done."
   ]
  },
  {
   "cell_type": "code",
   "execution_count": null,
   "metadata": {},
   "outputs": [],
   "source": [
    "def all_splits(s):\n",
    "    if len(s) == 0:\n",
    "        return [[]]\n",
    "    result = []\n",
    "    for i in range(1, len(s) + 1):\n",
    "        for split in all_splits(s[i:]):\n",
    "            result.append([s[:i]] + split)\n",
    "    return result\n",
    "\n",
    "for num in primes:\n",
    "    for split in all_splits(str(num)):\n",
    "        count = 0\n",
    "        for i in split:\n",
    "            if is_prime(int(i)):\n",
    "                count += 1\n",
    "        if count == 5:\n",
    "            print(num)\n",
    "            break"
   ]
  },
  {
   "cell_type": "code",
   "execution_count": null,
   "metadata": {},
   "outputs": [],
   "source": []
  }
 ],
 "metadata": {
  "kernelspec": {
   "display_name": "Python 3",
   "language": "python",
   "name": "python3"
  },
  "language_info": {
   "codemirror_mode": {
    "name": "ipython",
    "version": 3
   },
   "file_extension": ".py",
   "mimetype": "text/x-python",
   "name": "python",
   "nbconvert_exporter": "python",
   "pygments_lexer": "ipython3",
   "version": "3.11.5"
  }
 },
 "nbformat": 4,
 "nbformat_minor": 2
}
