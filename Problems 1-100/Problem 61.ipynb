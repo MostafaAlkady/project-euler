{
 "cells": [
  {
   "cell_type": "markdown",
   "metadata": {},
   "source": [
    "Preparing the arrays:"
   ]
  },
  {
   "cell_type": "code",
   "execution_count": 79,
   "metadata": {},
   "outputs": [],
   "source": [
    "triangle, square, pentagonal, hexagonal, heptagonal, octagonal = [], [], [], [], [], []\n",
    "for i in range(1, 500):\n",
    "    if 1000 <= i * (i + 1) // 2 < 10000:\n",
    "        triangle.append(i * (i + 1) // 2)\n",
    "    if 1000 <= i * i < 10000:\n",
    "        square.append(i * i)\n",
    "    if 1000 <= i * (3 * i - 1) // 2 < 10000:\n",
    "        pentagonal.append(i * (3 * i - 1) // 2)\n",
    "    if 1000 <= i * (2 * i - 1) < 10000:\n",
    "        hexagonal.append(i * (2 * i - 1))\n",
    "    if 1000 <= i * (5 * i - 3) // 2 < 10000:\n",
    "        heptagonal.append(i * (5 * i - 3) // 2)\n",
    "    if 1000 <= i * (3 * i - 2) < 10000:\n",
    "        octagonal.append(i * (3 * i - 2))\n",
    "\n",
    "all_figurates = triangle + square + pentagonal + hexagonal + heptagonal + octagonal\n",
    "all_figurates = sorted(list(set(all_figurates)))"
   ]
  },
  {
   "cell_type": "markdown",
   "metadata": {},
   "source": [
    "constructing the directed graph:"
   ]
  },
  {
   "cell_type": "code",
   "execution_count": 80,
   "metadata": {},
   "outputs": [],
   "source": [
    "import networkx as nx\n",
    "\n",
    "nodes = all_figurates\n",
    "G = nx.DiGraph()\n",
    "G.add_nodes_from(nodes)\n",
    "\n",
    "for i in range(len(all_figurates)):\n",
    "    for j in range(len(all_figurates)):\n",
    "        if str(all_figurates[i])[2:] == str(all_figurates[j])[:2]:\n",
    "            G.add_edge(all_figurates[i], all_figurates[j])\n",
    "            \n",
    "# [8256, 5625, 2512, 1281, 8128, 2882] 28684"
   ]
  },
  {
   "cell_type": "code",
   "execution_count": 81,
   "metadata": {},
   "outputs": [],
   "source": [
    "def find_cycles_of_length_6(graph):\n",
    "    cycles = []\n",
    "    \n",
    "    def dfs(path, node):\n",
    "        if len(path) == 7:\n",
    "            if path[0] == path[-1]:  # Check if it forms a cycle\n",
    "                cycles.append(path[:-1])\n",
    "            return\n",
    "        for neighbor in graph.neighbors(node):\n",
    "            if neighbor not in path or (len(path) == 6 and neighbor == path[0]):\n",
    "                dfs(path + [neighbor], neighbor)\n",
    "    \n",
    "    for node in graph.nodes():\n",
    "        dfs([node], node)\n",
    "    \n",
    "    # Remove duplicate cycles (since the algorithm might find the same cycle starting from different nodes)\n",
    "    unique_cycles = []\n",
    "    seen = set()\n",
    "    for cycle in cycles:\n",
    "        cycle_tuple = tuple(sorted(cycle))\n",
    "        if cycle_tuple not in seen:\n",
    "            unique_cycles.append(cycle)\n",
    "            seen.add(cycle_tuple)\n",
    "    \n",
    "    return unique_cycles"
   ]
  },
  {
   "cell_type": "markdown",
   "metadata": {},
   "source": [
    "candidates (those who have each category of figurate numbers):"
   ]
  },
  {
   "cell_type": "code",
   "execution_count": 83,
   "metadata": {},
   "outputs": [
    {
     "name": "stdout",
     "output_type": "stream",
     "text": [
      "[1128, 2821, 2116, 1651, 5192, 9211] 22119\n",
      "[1247, 4720, 2025, 2556, 5625, 2512] 18685\n",
      "[1281, 8128, 2882, 8256, 5625, 2512] 28684\n",
      "[1540, 4033, 3364, 6426, 2673, 7315] 25351\n",
      "[1617, 1782, 8281, 8128, 2821, 2116] 24745\n",
      "[1651, 5192, 9296, 9633, 3321, 2116] 31209\n",
      "[1680, 8037, 3721, 2147, 4720, 2016] 22321\n"
     ]
    }
   ],
   "source": [
    "cycles = find_cycles_of_length_6(G)\n",
    "\n",
    "for cycle in cycles:\n",
    "    count1, count2, count3, count4, count5, count6 = 0, 0, 0, 0, 0, 0\n",
    "    for i in cycle:\n",
    "        if i in triangle:\n",
    "            count1 += 1\n",
    "        if i in square:\n",
    "            count2 += 1\n",
    "        if i in pentagonal:\n",
    "            count3 += 1\n",
    "        if i in hexagonal:\n",
    "            count4 += 1\n",
    "        if i in heptagonal:\n",
    "            count5 += 1\n",
    "        if i in octagonal:\n",
    "            count6 += 1\n",
    "    if count1 >= 1 and count2 >= 1 and count3 >= 1 and count4 >= 1 and count5 >= 1 and count6 >= 1:\n",
    "        print(cycle, sum(cycle))"
   ]
  }
 ],
 "metadata": {
  "kernelspec": {
   "display_name": "Python 3",
   "language": "python",
   "name": "python3"
  },
  "language_info": {
   "codemirror_mode": {
    "name": "ipython",
    "version": 3
   },
   "file_extension": ".py",
   "mimetype": "text/x-python",
   "name": "python",
   "nbconvert_exporter": "python",
   "pygments_lexer": "ipython3",
   "version": "3.11.5"
  }
 },
 "nbformat": 4,
 "nbformat_minor": 2
}
