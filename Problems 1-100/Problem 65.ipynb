{
 "cells": [
  {
   "cell_type": "markdown",
   "metadata": {},
   "source": [
    "b[0] here represents the first integer in the notation. The rest of the b array is the remaining simple continued fraction representation."
   ]
  },
  {
   "cell_type": "code",
   "execution_count": 5,
   "metadata": {},
   "outputs": [
    {
     "name": "stdout",
     "output_type": "stream",
     "text": [
      "272\n"
     ]
    }
   ],
   "source": [
    "def simplify(a, b, c):\n",
    "    return a * c + b, c\n",
    "\n",
    "def continued_fraction(b, n): # b is the sequence (with b[0] the first integer in the notation) and n is the number of terms\n",
    "    num = 1\n",
    "    den = b[n - 1]\n",
    "    while n > 1:\n",
    "        temp = simplify(b[n - 2], num, den)\n",
    "        den = temp[0]\n",
    "        num = temp[1]\n",
    "        n -= 1\n",
    "    return den, num\n",
    "    \n",
    "# filling the b array \n",
    "b = [2, 1]\n",
    "for i in range(1, 1000):\n",
    "    b.append(2 * i)\n",
    "    b.append(1)\n",
    "    b.append(1)\n",
    "\n",
    "print(sum([int(i) for i in str(continued_fraction(b, 100)[0])]))"
   ]
  }
 ],
 "metadata": {
  "kernelspec": {
   "display_name": "Python 3",
   "language": "python",
   "name": "python3"
  },
  "language_info": {
   "codemirror_mode": {
    "name": "ipython",
    "version": 3
   },
   "file_extension": ".py",
   "mimetype": "text/x-python",
   "name": "python",
   "nbconvert_exporter": "python",
   "pygments_lexer": "ipython3",
   "version": "3.11.5"
  }
 },
 "nbformat": 4,
 "nbformat_minor": 2
}
