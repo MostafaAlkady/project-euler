{
 "cells": [
  {
   "cell_type": "code",
   "execution_count": 3,
   "metadata": {},
   "outputs": [
    {
     "name": "stdout",
     "output_type": "stream",
     "text": [
      "7273\n"
     ]
    },
    {
     "data": {
      "text/plain": [
       "'\"\"\\nfunction dijkstra(G, S)\\n    for each vertex V in G\\n        distance[V] <- infinite\\n        previous[V] <- NULL\\n        If V != S, add V to Priority Queue Q\\n    distance[S] <- 0\\n\\t\\n    while Q IS NOT EMPTY\\n        U <- Extract MIN from Q\\n        for each unvisited neighbour V of U\\n            tempDistance <- distance[U] + edge_weight(U, V)\\n            if tempDistance > distance[V]\\n                distance[V] <- tempDistance\\n                previous[V] <- U\\n    return distance[], previous[]\\n\\n# Print the result matrix\\nfor row in result_matrix:\\n    print(row)\\n'"
      ]
     },
     "execution_count": 3,
     "metadata": {},
     "output_type": "execute_result"
    }
   ],
   "source": [
    "def read_file_and_create_matrix(file_path):\n",
    "    distance = {}\n",
    "    matrix = []\n",
    "\n",
    "    with open(file_path, 'r') as file:\n",
    "        for line in file:\n",
    "            # Split the line into a list of numbers\n",
    "            numbers = [int(num) for num in line.strip().split()]\n",
    "            matrix.append(numbers)\n",
    "    return matrix\n",
    "\n",
    "# Example usage:\n",
    "file_path = '/Users/mostafaalkady/Documents/Python Projects and Files/Project Euler/0067_triangle.txt'  # Replace with the actual path to your file\n",
    "result_matrix = read_file_and_create_matrix(file_path)\n",
    "\n",
    "\n",
    "rows = len(result_matrix)\n",
    "\n",
    "memo = [[-1 for _ in range(rows)] for _ in range(rows)]\n",
    "\n",
    "def solve(r, c):\n",
    "    if memo[r][c] != -1:\n",
    "        return memo[r][c]\n",
    "    if r == rows - 1:\n",
    "        return result_matrix[r][c]\n",
    "    memo[r][c] = result_matrix[r][c] + max(solve(r + 1, c), solve(r + 1, c + 1))\n",
    "    return memo[r][c]\n",
    "\n",
    "print(solve(0, 0))    \n",
    "\n",
    "\"\"\"\"\"\n",
    "function dijkstra(G, S)\n",
    "    for each vertex V in G\n",
    "        distance[V] <- infinite\n",
    "        previous[V] <- NULL\n",
    "        If V != S, add V to Priority Queue Q\n",
    "    distance[S] <- 0\n",
    "\t\n",
    "    while Q IS NOT EMPTY\n",
    "        U <- Extract MIN from Q\n",
    "        for each unvisited neighbour V of U\n",
    "            tempDistance <- distance[U] + edge_weight(U, V)\n",
    "            if tempDistance > distance[V]\n",
    "                distance[V] <- tempDistance\n",
    "                previous[V] <- U\n",
    "    return distance[], previous[]\n",
    "\n",
    "# Print the result matrix\n",
    "for row in result_matrix:\n",
    "    print(row)\n",
    "\"\"\""
   ]
  },
  {
   "cell_type": "markdown",
   "metadata": {},
   "source": [
    "(r, c) --> (r+1, c) & (r+1, c+1)\n",
    "\n",
    "\n",
    "                    \n",
    "solve(r, c) = "
   ]
  }
 ],
 "metadata": {
  "kernelspec": {
   "display_name": "Python 3",
   "language": "python",
   "name": "python3"
  },
  "language_info": {
   "codemirror_mode": {
    "name": "ipython",
    "version": 3
   },
   "file_extension": ".py",
   "mimetype": "text/x-python",
   "name": "python",
   "nbconvert_exporter": "python",
   "pygments_lexer": "ipython3",
   "version": "3.11.5"
  },
  "orig_nbformat": 4
 },
 "nbformat": 4,
 "nbformat_minor": 2
}
