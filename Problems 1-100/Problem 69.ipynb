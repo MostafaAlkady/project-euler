{
 "cells": [
  {
   "cell_type": "code",
   "execution_count": 18,
   "metadata": {},
   "outputs": [
    {
     "name": "stdout",
     "output_type": "stream",
     "text": [
      "1 1.0\n",
      "2 2.0\n",
      "6 3.0\n",
      "30 3.749999999999999\n",
      "90 3.7499999999999996\n",
      "210 4.374999999999999\n",
      "2310 4.812499999999999\n",
      "30030 5.213541666666665\n",
      "390390 5.213541666666666\n",
      "510510 5.539388020833332\n"
     ]
    }
   ],
   "source": [
    "import numpy as np\n",
    "\n",
    "def prime_factors(n):\n",
    "    i = 2\n",
    "    factors = []\n",
    "    while i * i <= n:\n",
    "        if n % i:\n",
    "            i += 1\n",
    "        else:\n",
    "            n //= i\n",
    "            factors.append(i)\n",
    "    if n > 1:\n",
    "        factors.append(n)\n",
    "    return factors\n",
    "\n",
    "def phi(n):\n",
    "    return n * np.prod([1 - 1/p for p in set(prime_factors(n))])\n",
    "\n",
    "maximum = 0\n",
    "for i in range(1, 1000001):\n",
    "    if i/phi(i) > maximum:\n",
    "        maximum = i/phi(i)\n",
    "        print(i, maximum)\n"
   ]
  }
 ],
 "metadata": {
  "kernelspec": {
   "display_name": "Python 3",
   "language": "python",
   "name": "python3"
  },
  "language_info": {
   "codemirror_mode": {
    "name": "ipython",
    "version": 3
   },
   "file_extension": ".py",
   "mimetype": "text/x-python",
   "name": "python",
   "nbconvert_exporter": "python",
   "pygments_lexer": "ipython3",
   "version": "3.11.5"
  }
 },
 "nbformat": 4,
 "nbformat_minor": 2
}
