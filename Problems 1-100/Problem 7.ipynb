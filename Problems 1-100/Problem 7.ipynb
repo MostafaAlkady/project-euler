{
 "cells": [
  {
   "cell_type": "markdown",
   "metadata": {},
   "source": [
    "We use the famous Sieve of Eratosthenes algorithm:"
   ]
  },
  {
   "cell_type": "code",
   "execution_count": 5,
   "metadata": {},
   "outputs": [
    {
     "data": {
      "text/plain": [
       "104743"
      ]
     },
     "execution_count": 5,
     "metadata": {},
     "output_type": "execute_result"
    }
   ],
   "source": [
    "def sieve_of_eratosthenes(limit):\n",
    "    prime = [True] * (limit + 1)\n",
    "    p = 2\n",
    "\n",
    "    while p * p <= limit:\n",
    "        if prime[p]:\n",
    "            for i in range(p * p, limit + 1, p):\n",
    "                prime[i] = False\n",
    "        p += 1\n",
    "\n",
    "    prime_numbers = [p for p in range(2, limit + 1) if prime[p]]\n",
    "    return prime_numbers\n",
    "\n",
    "sieve_of_eratosthenes(1000000)[10000]"
   ]
  }
 ],
 "metadata": {
  "kernelspec": {
   "display_name": "Python 3",
   "language": "python",
   "name": "python3"
  },
  "language_info": {
   "codemirror_mode": {
    "name": "ipython",
    "version": 3
   },
   "file_extension": ".py",
   "mimetype": "text/x-python",
   "name": "python",
   "nbconvert_exporter": "python",
   "pygments_lexer": "ipython3",
   "version": "3.11.5"
  }
 },
 "nbformat": 4,
 "nbformat_minor": 2
}
