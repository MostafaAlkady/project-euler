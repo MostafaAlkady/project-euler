{
 "cells": [
  {
   "cell_type": "markdown",
   "metadata": {},
   "source": [
    "The answer is equal to the number of coprime pairs under 10^6. So we sum Euler Totient function from 2 to 10^6."
   ]
  },
  {
   "cell_type": "code",
   "execution_count": 4,
   "metadata": {},
   "outputs": [],
   "source": [
    "import numpy as np\n",
    "import math\n",
    "\n",
    "def are_coprime(a, b):\n",
    "    return math.gcd(a, b) == 1\n",
    "\n",
    "def prime_factors(n):\n",
    "    i = 2\n",
    "    factors = []\n",
    "    while i * i <= n:\n",
    "        if n % i:\n",
    "            i += 1\n",
    "        else:\n",
    "            n //= i\n",
    "            factors.append(i)\n",
    "    if n > 1:\n",
    "        factors.append(n)\n",
    "    return factors\n",
    "\n",
    "def phi(n):\n",
    "    return n * np.prod([1 - 1/p for p in set(prime_factors(n))])"
   ]
  },
  {
   "cell_type": "code",
   "execution_count": 12,
   "metadata": {},
   "outputs": [
    {
     "name": "stdout",
     "output_type": "stream",
     "text": [
      "now calculating 100000\n",
      "now calculating 200000\n",
      "now calculating 300000\n",
      "now calculating 400000\n",
      "now calculating 500000\n",
      "now calculating 600000\n",
      "now calculating 700000\n",
      "now calculating 800000\n",
      "now calculating 900000\n",
      "now calculating 1000000\n",
      "303963552391\n"
     ]
    }
   ],
   "source": [
    "limit = 1000000\n",
    "total = 0\n",
    "for i in range(2, limit + 1):\n",
    "    if i % 100000 == 0:\n",
    "        print(\"now calculating\", i)\n",
    "    total += phi(i)\n",
    "print(int(total))"
   ]
  }
 ],
 "metadata": {
  "kernelspec": {
   "display_name": "Python 3",
   "language": "python",
   "name": "python3"
  },
  "language_info": {
   "codemirror_mode": {
    "name": "ipython",
    "version": 3
   },
   "file_extension": ".py",
   "mimetype": "text/x-python",
   "name": "python",
   "nbconvert_exporter": "python",
   "pygments_lexer": "ipython3",
   "version": "3.11.5"
  }
 },
 "nbformat": 4,
 "nbformat_minor": 2
}
