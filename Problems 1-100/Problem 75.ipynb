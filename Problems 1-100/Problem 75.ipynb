{
 "cells": [
  {
   "cell_type": "markdown",
   "metadata": {},
   "source": [
    "#### Optimal Solution:"
   ]
  },
  {
   "cell_type": "code",
   "execution_count": 45,
   "metadata": {},
   "outputs": [
    {
     "name": "stdout",
     "output_type": "stream",
     "text": [
      "161667\n"
     ]
    }
   ],
   "source": [
    "def gcd(a, b):\n",
    "    while b != 0:\n",
    "        a, b = b, a % b\n",
    "    return a\n",
    "\n",
    "def problem75(limit):\n",
    "    lengths = []\n",
    "    for m in range(1, int(limit**0.5) + 1):\n",
    "        for n in range(1, m):\n",
    "            if (m - n) % 2 == 1 and gcd(m, n) == 1:  # m > n, and m - n is odd, gcd(m, n) = 1\n",
    "                a = m**2 - n**2\n",
    "                b = 2 * m * n\n",
    "                c = m**2 + n**2\n",
    "                length = a + b + c\n",
    "                if length <= limit:\n",
    "                    lengths.append(length)\n",
    "                    k = 2\n",
    "                    while k * length <= limit:\n",
    "                        lengths.append(k* length)\n",
    "                        k += 1\n",
    "    return sorted(lengths)\n",
    "\n",
    "limit = 1500000\n",
    "lengths = problem75(limit)\n",
    "\n",
    "def remove_repeated_values(lst):\n",
    "    # Count the frequency of each element in the list\n",
    "    from collections import Counter\n",
    "    count = Counter(lst)\n",
    "    \n",
    "    return [item for item in lst if count[item] == 1]\n",
    "\n",
    "cleaned_lengths = remove_repeated_values(lengths)\n",
    "print(len(cleaned_lengths))"
   ]
  },
  {
   "cell_type": "markdown",
   "metadata": {},
   "source": [
    "#### A worse solution:"
   ]
  },
  {
   "cell_type": "markdown",
   "metadata": {},
   "source": [
    "We need to find the number of L values under 1500000 that has a unique triplet $i^2 + j^2 = k^2$ such that $i+j+k=L$.\n",
    "Solving for k and substituting gives $$ j = \\frac{l}{2} \\frac{(l-2i)}{(l-i)}. $$We notice this is positive for $i>\\frac{l}{2}$. We also notice that $l$ must be even in order for $j$ to be an integer."
   ]
  },
  {
   "cell_type": "code",
   "execution_count": 12,
   "metadata": {},
   "outputs": [
    {
     "data": {
      "text/plain": [
       "11"
      ]
     },
     "execution_count": 12,
     "metadata": {},
     "output_type": "execute_result"
    }
   ],
   "source": [
    "def problem75(L):\n",
    "    ans = 0\n",
    "    for l in range(2, L+1, 2): # loop over even numbers only\n",
    "        if l % 100000 == 0:\n",
    "            print(\"Now at l =\", l)\n",
    "        count = 0\n",
    "        for i in range(1, l//2 + 1):\n",
    "            if l == 2*i: # remove the zero solution\n",
    "                continue\n",
    "            j = l/2 * (l - 2*i) / (l - i)\n",
    "            if j.is_integer() and i < j:\n",
    "                count += 1\n",
    "                # print(\"For l =\", l, \"triplet is:\", i, j, l-i-j)\n",
    "                if count > 1:\n",
    "                    break\n",
    "        if count == 1:\n",
    "            ans += 1\n",
    "    return ans\n",
    "\n",
    "problem75(100)"
   ]
  },
  {
   "cell_type": "markdown",
   "metadata": {},
   "source": [
    "#### A much worse solution (brute force):"
   ]
  },
  {
   "cell_type": "code",
   "execution_count": 13,
   "metadata": {},
   "outputs": [
    {
     "data": {
      "text/plain": [
       "11"
      ]
     },
     "execution_count": 13,
     "metadata": {},
     "output_type": "execute_result"
    }
   ],
   "source": [
    "def problem75(L):\n",
    "    ans = 0\n",
    "    for l in range(1, L+1):\n",
    "        if l % 10000 == 0:\n",
    "            print(\"Now at l =\", l)\n",
    "        count = 0\n",
    "        for i in range(1, l):\n",
    "            for j in range(i, l):\n",
    "                k = l - i - j\n",
    "                if i**2 + j**2 == k**2:\n",
    "                    count += 1\n",
    "                    # print(\"l is:\", l, \"triplet is:\", i, j, k)\n",
    "                    if count > 1:\n",
    "                        break\n",
    "        if count == 1:\n",
    "            ans += 1\n",
    "    return ans\n",
    "\n",
    "problem75(100)"
   ]
  }
 ],
 "metadata": {
  "kernelspec": {
   "display_name": "Python 3",
   "language": "python",
   "name": "python3"
  },
  "language_info": {
   "codemirror_mode": {
    "name": "ipython",
    "version": 3
   },
   "file_extension": ".py",
   "mimetype": "text/x-python",
   "name": "python",
   "nbconvert_exporter": "python",
   "pygments_lexer": "ipython3",
   "version": "3.11.5"
  }
 },
 "nbformat": 4,
 "nbformat_minor": 2
}
