{
 "cells": [
  {
   "cell_type": "code",
   "execution_count": 59,
   "metadata": {},
   "outputs": [
    {
     "name": "stdout",
     "output_type": "stream",
     "text": [
      "1.4142135623730950488016887242096980785696718753769480731766797379907324784621070388503875343276415727350\n"
     ]
    }
   ],
   "source": [
    "import numpy as np\n",
    "from decimal import Decimal, getcontext\n",
    "\n",
    "getcontext().prec = 104\n",
    "\n",
    "num = Decimal(2).sqrt()\n",
    "print(num)"
   ]
  },
  {
   "cell_type": "code",
   "execution_count": 86,
   "metadata": {},
   "outputs": [
    {
     "name": "stdout",
     "output_type": "stream",
     "text": [
      "40886\n"
     ]
    }
   ],
   "source": [
    "ans = 0\n",
    "limit = 100\n",
    "for i in range(1, limit + 1):\n",
    "    if i in [1, 4, 9, 16, 25, 36, 49, 64, 81, 100]:\n",
    "        continue\n",
    "    num = Decimal(i).sqrt()\n",
    "    num_str = str(num)\n",
    "    index = num_str.index('.')\n",
    "    integer = num_str[:index]\n",
    "    fraction = num_str[index+1:index + 100]\n",
    "    num_str = integer + fraction\n",
    "    for i in num_str:\n",
    "        ans += int(i)\n",
    "print(ans)"
   ]
  }
 ],
 "metadata": {
  "kernelspec": {
   "display_name": "base",
   "language": "python",
   "name": "python3"
  },
  "language_info": {
   "codemirror_mode": {
    "name": "ipython",
    "version": 3
   },
   "file_extension": ".py",
   "mimetype": "text/x-python",
   "name": "python",
   "nbconvert_exporter": "python",
   "pygments_lexer": "ipython3",
   "version": "3.11.5"
  }
 },
 "nbformat": 4,
 "nbformat_minor": 2
}
