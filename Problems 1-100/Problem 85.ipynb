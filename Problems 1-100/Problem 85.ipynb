{
 "cells": [
  {
   "cell_type": "code",
   "execution_count": 3,
   "metadata": {},
   "outputs": [],
   "source": [
    "import numpy as np"
   ]
  },
  {
   "cell_type": "markdown",
   "metadata": {},
   "source": [
    "A formula is derived for the number of possible rectangles $x$ inside an $n \\times l$ rectangle.\n",
    "$$ x = \\frac{n}{2}(n+1) \\frac{l}{2}(l+1) $$"
   ]
  },
  {
   "cell_type": "code",
   "execution_count": 21,
   "metadata": {},
   "outputs": [
    {
     "name": "stdout",
     "output_type": "stream",
     "text": [
      "3 816 2000016.0\n",
      "36 77 1999998.0\n",
      "Answer is: 2772 with a difference of 2.0\n"
     ]
    }
   ],
   "source": [
    "min_difference = 100\n",
    "limit = 2000\n",
    "for n in range(1,limit):\n",
    "    for l in range(1,limit):\n",
    "        x = n*(n+1)/2 * l*(l+1)/2\n",
    "        if np.abs(x - 2000000) < min_difference:\n",
    "            min_difference = np.abs(x - 2000000)\n",
    "            width, height = n, l\n",
    "            print(n, l, x)\n",
    "\n",
    "print(\"Answer is:\", width * height, \"with a difference of\", min_difference)"
   ]
  },
  {
   "cell_type": "markdown",
   "metadata": {},
   "source": [
    "(draft) Bounds on the limits:"
   ]
  },
  {
   "cell_type": "code",
   "execution_count": 20,
   "metadata": {},
   "outputs": [
    {
     "name": "stdout",
     "output_type": "stream",
     "text": [
      "2001000.0\n"
     ]
    }
   ],
   "source": [
    "n = 1\n",
    "l = 2000\n",
    "x = n*(n+1)/2 * l*(l+1)/2\n",
    "print(x)"
   ]
  }
 ],
 "metadata": {
  "kernelspec": {
   "display_name": "Python 3",
   "language": "python",
   "name": "python3"
  },
  "language_info": {
   "codemirror_mode": {
    "name": "ipython",
    "version": 3
   },
   "file_extension": ".py",
   "mimetype": "text/x-python",
   "name": "python",
   "nbconvert_exporter": "python",
   "pygments_lexer": "ipython3",
   "version": "3.11.5"
  }
 },
 "nbformat": 4,
 "nbformat_minor": 2
}
