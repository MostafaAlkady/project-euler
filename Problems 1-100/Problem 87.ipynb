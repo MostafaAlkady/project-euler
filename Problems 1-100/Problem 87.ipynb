{
 "cells": [
  {
   "cell_type": "code",
   "execution_count": 49,
   "metadata": {},
   "outputs": [
    {
     "name": "stdout",
     "output_type": "stream",
     "text": [
      "908\n"
     ]
    }
   ],
   "source": [
    "def sieve_of_eratosthenes(limit):\n",
    "    prime = [True] * (limit + 1)\n",
    "    p = 2\n",
    "\n",
    "    while p * p <= limit:\n",
    "        if prime[p]:\n",
    "            for i in range(p * p, limit + 1, p):\n",
    "                prime[i] = False\n",
    "        p += 1\n",
    "\n",
    "    prime_numbers = [p for p in range(2, limit + 1) if prime[p]]\n",
    "    return prime_numbers\n",
    "\n",
    "# Example usage\n",
    "limit = int(50000000 ** (1/2))\n",
    "# limit = 20000\n",
    "primes = sieve_of_eratosthenes(limit)\n",
    "print(len(primes))"
   ]
  },
  {
   "cell_type": "markdown",
   "metadata": {},
   "source": [
    "Remember: we're counting the numbers on the left hand side. Some of which can be written in multiple ways as described, so we need to remove the overcounting."
   ]
  },
  {
   "cell_type": "code",
   "execution_count": 73,
   "metadata": {},
   "outputs": [
    {
     "name": "stdout",
     "output_type": "stream",
     "text": [
      "1097343\n"
     ]
    }
   ],
   "source": [
    "limit = 50000000\n",
    "count = 0\n",
    "numbers = []\n",
    "\n",
    "for i in range(len(primes)):\n",
    "    for j in range(len(primes)):\n",
    "        for k in range(len(primes)):\n",
    "            if primes[i] ** 2 + primes[j] ** 3 + primes[k] ** 4 < limit:\n",
    "                count += 1\n",
    "                numbers.append(primes[i] ** 2 + primes[j] ** 3 + primes[k] ** 4)\n",
    "            else:\n",
    "                break\n",
    "\n",
    "print(len(set(numbers)))"
   ]
  }
 ],
 "metadata": {
  "kernelspec": {
   "display_name": "base",
   "language": "python",
   "name": "python3"
  },
  "language_info": {
   "codemirror_mode": {
    "name": "ipython",
    "version": 3
   },
   "file_extension": ".py",
   "mimetype": "text/x-python",
   "name": "python",
   "nbconvert_exporter": "python",
   "pygments_lexer": "ipython3",
   "version": "3.11.9"
  }
 },
 "nbformat": 4,
 "nbformat_minor": 2
}
