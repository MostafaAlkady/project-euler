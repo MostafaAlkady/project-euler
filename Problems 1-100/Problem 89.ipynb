{
 "cells": [
  {
   "cell_type": "code",
   "execution_count": 8,
   "metadata": {},
   "outputs": [],
   "source": [
    "def roman_to_int(s: str):\n",
    "    roman_dict = {'I': 1, 'V': 5, 'X': 10, 'L': 50, 'C': 100, 'D': 500, 'M': 1000}\n",
    "    total = 0\n",
    "    prev_value = 0\n",
    "    \n",
    "    for char in reversed(s):\n",
    "        current_value = roman_dict[char]\n",
    "        if current_value < prev_value:\n",
    "            total -= current_value\n",
    "        else:\n",
    "            total += current_value\n",
    "        prev_value = current_value\n",
    "    \n",
    "    return total\n",
    "\n",
    "def int_to_roman(num: int):\n",
    "    value_map = [\n",
    "        (1000, 'M'), (900, 'CM'), (500, 'D'), (400, 'CD'),\n",
    "        (100, 'C'), (90, 'XC'), (50, 'L'), (40, 'XL'),\n",
    "        (10, 'X'), (9, 'IX'), (5, 'V'), (4, 'IV'),\n",
    "        (1, 'I')\n",
    "    ]\n",
    "    roman_numeral = ''\n",
    "    \n",
    "    for value, symbol in value_map:\n",
    "        while num >= value:\n",
    "            roman_numeral += symbol\n",
    "            num -= value\n",
    "    \n",
    "    return roman_numeral"
   ]
  },
  {
   "cell_type": "code",
   "execution_count": 21,
   "metadata": {},
   "outputs": [
    {
     "name": "stdout",
     "output_type": "stream",
     "text": [
      "743\n"
     ]
    }
   ],
   "source": [
    "with open('0089_roman.txt', 'r') as file:\n",
    "    lines = file.readlines()\n",
    "\n",
    "for i in range(len(lines)):\n",
    "    lines[i] = lines[i].strip()\n",
    "\n",
    "ans = 0\n",
    "for line in lines:\n",
    "    original_length = len(line)\n",
    "    ans += original_length - len(int_to_roman(roman_to_int(line)))\n",
    "print(ans)"
   ]
  }
 ],
 "metadata": {
  "kernelspec": {
   "display_name": "base",
   "language": "python",
   "name": "python3"
  },
  "language_info": {
   "codemirror_mode": {
    "name": "ipython",
    "version": 3
   },
   "file_extension": ".py",
   "mimetype": "text/x-python",
   "name": "python",
   "nbconvert_exporter": "python",
   "pygments_lexer": "ipython3",
   "version": "3.11.9"
  }
 },
 "nbformat": 4,
 "nbformat_minor": 2
}
