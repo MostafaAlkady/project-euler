{
 "cells": [
  {
   "cell_type": "code",
   "execution_count": 3,
   "metadata": {},
   "outputs": [
    {
     "name": "stdout",
     "output_type": "stream",
     "text": [
      "5761455\n"
     ]
    }
   ],
   "source": [
    "import numpy as np\n",
    "\n",
    "prime_numbers = []  # Declare the global variable\n",
    "\n",
    "def sieve_of_eratosthenes(limit):\n",
    "    global prime_numbers  # Declare that we are using the global variable\n",
    "    prime = [True] * (limit + 1)\n",
    "    p = 2\n",
    "\n",
    "    while p * p <= limit:\n",
    "        if prime[p]:\n",
    "            for i in range(p * p, limit + 1, p):\n",
    "                prime[i] = False\n",
    "        p += 1\n",
    "\n",
    "    prime_numbers = [p for p in range(2, limit + 1) if prime[p]]\n",
    "    return prime_numbers\n",
    "\n",
    "# Example usage\n",
    "limit = 100000000\n",
    "primes = sieve_of_eratosthenes(limit)\n",
    "primes = np.array(primes)\n",
    "print(len(primes))\n",
    "\n",
    "def is_prime(n):\n",
    "    if n < 2:\n",
    "        return False\n",
    "    for i in range(2, int(n**0.5) + 1):\n",
    "        if n % i == 0:\n",
    "            return False\n",
    "    return True\n",
    "\n",
    "def finding_divisors(n):\n",
    "    divisors = []\n",
    "    for i in range(1, int(n**0.5) + 1):\n",
    "        if n % i == 0:\n",
    "            divisors.append(i)\n",
    "            if i != n // i:\n",
    "                divisors.append(n // i)\n",
    "    return sorted(divisors)\n",
    "\n",
    "def binary_search(arr, x):\n",
    "    low = 0\n",
    "    high = len(arr) - 1\n",
    "    mid = 0\n",
    "\n",
    "    while low <= high:\n",
    "        mid = (high + low) // 2\n",
    "        if arr[mid] < x:\n",
    "            low = mid + 1\n",
    "        elif arr[mid] > x:\n",
    "            high = mid - 1\n",
    "        else:\n",
    "            return mid\n",
    "\n",
    "    return False"
   ]
  },
  {
   "cell_type": "markdown",
   "metadata": {},
   "source": [
    "Observation: after looping on all integers and printing the numbers that satisfy the statement in the problem, it turns out those numbers are of the form $p+1$, where $p$ is a prime number. So we loop on prime numbers instead."
   ]
  },
  {
   "cell_type": "code",
   "execution_count": null,
   "metadata": {},
   "outputs": [],
   "source": [
    "total = 0\n",
    "for i in range(len(primes)):\n",
    "    if i % 1000000 == 0:\n",
    "        print(\"now at\", i)\n",
    "    count = 0\n",
    "    divisors = finding_divisors(primes[i]-1)\n",
    "    for j in divisors[0:len(divisors)//2]: # only need to check half of the divisors, because the expression is symmertric\n",
    "        if  bool(binary_search(primes[0:i+1], j+(primes[i]-1)//j)): \n",
    "            count += 1\n",
    "        if count == len(divisors)//2:\n",
    "            # print(primes[i]-1)\n",
    "            total += (primes[i]-1)\n",
    "\n",
    "print(\"total:\", total)"
   ]
  },
  {
   "cell_type": "markdown",
   "metadata": {},
   "source": [
    "Brute force (not recommended):"
   ]
  },
  {
   "cell_type": "code",
   "execution_count": null,
   "metadata": {},
   "outputs": [],
   "source": [
    "total = 0\n",
    "for i in range(1,1001):\n",
    "    # if i % 10000000 == 0:\n",
    "    #     print(\"now at\", i)\n",
    "    count = 0\n",
    "    divisors = finding_divisors(i)\n",
    "    for j in divisors:\n",
    "        if is_prime(j+i/j):\n",
    "            count += 1\n",
    "        if count == len(divisors):\n",
    "            print(i)\n",
    "            total += i\n",
    "\n",
    "print(total)"
   ]
  }
 ],
 "metadata": {
  "kernelspec": {
   "display_name": "Python 3",
   "language": "python",
   "name": "python3"
  },
  "language_info": {
   "codemirror_mode": {
    "name": "ipython",
    "version": 3
   },
   "file_extension": ".py",
   "mimetype": "text/x-python",
   "name": "python",
   "nbconvert_exporter": "python",
   "pygments_lexer": "ipython3",
   "version": "3.11.5"
  }
 },
 "nbformat": 4,
 "nbformat_minor": 2
}
