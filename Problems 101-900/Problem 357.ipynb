{
 "cells": [
  {
   "cell_type": "code",
   "execution_count": 3,
   "metadata": {},
   "outputs": [
    {
     "name": "stdout",
     "output_type": "stream",
     "text": [
      "5761455\n"
     ]
    }
   ],
   "source": [
    "import numpy as np\n",
    "\n",
    "prime_numbers = []  # Declare the global variable\n",
    "\n",
    "def sieve_of_eratosthenes(limit):\n",
    "    global prime_numbers  # Declare that we are using the global variable\n",
    "    prime = [True] * (limit + 1)\n",
    "    p = 2\n",
    "\n",
    "    while p * p <= limit:\n",
    "        if prime[p]:\n",
    "            for i in range(p * p, limit + 1, p):\n",
    "                prime[i] = False\n",
    "        p += 1\n",
    "\n",
    "    prime_numbers = [p for p in range(2, limit + 1) if prime[p]]\n",
    "    return prime_numbers\n",
    "\n",
    "# Example usage\n",
    "limit = 100000000\n",
    "primes = sieve_of_eratosthenes(limit)\n",
    "primes = np.array(primes)\n",
    "print(len(primes))\n",
    "\n",
    "def is_prime(n):\n",
    "    if n < 2:\n",
    "        return False\n",
    "    for i in range(2, int(n**0.5) + 1):\n",
    "        if n % i == 0:\n",
    "            return False\n",
    "    return True\n",
    "\n",
    "def finding_divisors(n):\n",
    "    divisors = []\n",
    "    for i in range(1, int(n**0.5) + 1):\n",
    "        if n % i == 0:\n",
    "            divisors.append(i)\n",
    "            if i != n // i:\n",
    "                divisors.append(n // i)\n",
    "    return sorted(divisors)\n",
    "\n",
    "def binary_search(arr, x):\n",
    "    low = 0\n",
    "    high = len(arr) - 1\n",
    "    mid = 0\n",
    "\n",
    "    while low <= high:\n",
    "        mid = (high + low) // 2\n",
    "        if arr[mid] < x:\n",
    "            low = mid + 1\n",
    "        elif arr[mid] > x:\n",
    "            high = mid - 1\n",
    "        else:\n",
    "            return mid\n",
    "\n",
    "    return False"
   ]
  },
  {
   "cell_type": "markdown",
   "metadata": {},
   "source": [
    "Observation: after looping on all integers and printing the numbers that satisfy the statement in the problem, it turns out those numbers are of the form $p+1$, where $p$ is a prime number. So we loop on prime numbers instead."
   ]
  },
  {
   "cell_type": "code",
   "execution_count": 4,
   "metadata": {},
   "outputs": [
    {
     "name": "stdout",
     "output_type": "stream",
     "text": [
      "now at 0\n",
      "Unexpected exception formatting exception. Falling back to standard exception\n"
     ]
    },
    {
     "name": "stderr",
     "output_type": "stream",
     "text": [
      "Traceback (most recent call last):\n",
      "  File \"/Users/mostafaalkady/Library/Python/3.11/lib/python/site-packages/IPython/core/interactiveshell.py\", line 3526, in run_code\n",
      "    exec(code_obj, self.user_global_ns, self.user_ns)\n",
      "  File \"/var/folders/hg/2drdfc9s5656_l_h4q0lmvdw0000gn/T/ipykernel_7904/971550516.py\", line 6, in <module>\n",
      "    divisors = finding_divisors(primes[i]-1)\n",
      "               ^^^^^^^^^^^^^^^^^^^^^^^^^^^^^\n",
      "  File \"/var/folders/hg/2drdfc9s5656_l_h4q0lmvdw0000gn/T/ipykernel_7904/2517920806.py\", line -1, in finding_divisors\n",
      "KeyboardInterrupt\n",
      "\n",
      "During handling of the above exception, another exception occurred:\n",
      "\n",
      "Traceback (most recent call last):\n",
      "  File \"/Users/mostafaalkady/Library/Python/3.11/lib/python/site-packages/IPython/core/interactiveshell.py\", line 2120, in showtraceback\n",
      "    stb = self.InteractiveTB.structured_traceback(\n",
      "          ^^^^^^^^^^^^^^^^^^^^^^^^^^^^^^^^^^^^^^^^\n",
      "  File \"/Users/mostafaalkady/Library/Python/3.11/lib/python/site-packages/IPython/core/ultratb.py\", line 1435, in structured_traceback\n",
      "    return FormattedTB.structured_traceback(\n",
      "           ^^^^^^^^^^^^^^^^^^^^^^^^^^^^^^^^^\n",
      "  File \"/Users/mostafaalkady/Library/Python/3.11/lib/python/site-packages/IPython/core/ultratb.py\", line 1326, in structured_traceback\n",
      "    return VerboseTB.structured_traceback(\n",
      "           ^^^^^^^^^^^^^^^^^^^^^^^^^^^^^^^\n",
      "  File \"/Users/mostafaalkady/Library/Python/3.11/lib/python/site-packages/IPython/core/ultratb.py\", line 1173, in structured_traceback\n",
      "    formatted_exception = self.format_exception_as_a_whole(etype, evalue, etb, number_of_lines_of_context,\n",
      "                          ^^^^^^^^^^^^^^^^^^^^^^^^^^^^^^^^^^^^^^^^^^^^^^^^^^^^^^^^^^^^^^^^^^^^^^^^^^^^^^^^\n",
      "  File \"/Users/mostafaalkady/Library/Python/3.11/lib/python/site-packages/IPython/core/ultratb.py\", line 1088, in format_exception_as_a_whole\n",
      "    frames.append(self.format_record(record))\n",
      "                  ^^^^^^^^^^^^^^^^^^^^^^^^^^\n",
      "  File \"/Users/mostafaalkady/Library/Python/3.11/lib/python/site-packages/IPython/core/ultratb.py\", line 970, in format_record\n",
      "    frame_info.lines, Colors, self.has_colors, lvals\n",
      "    ^^^^^^^^^^^^^^^^\n",
      "  File \"/Users/mostafaalkady/Library/Python/3.11/lib/python/site-packages/IPython/core/ultratb.py\", line 792, in lines\n",
      "    return self._sd.lines\n",
      "           ^^^^^^^^^^^^^^\n",
      "  File \"/Users/mostafaalkady/Library/Python/3.11/lib/python/site-packages/stack_data/utils.py\", line 144, in cached_property_wrapper\n",
      "    value = obj.__dict__[self.func.__name__] = self.func(obj)\n",
      "                                               ^^^^^^^^^^^^^^\n",
      "  File \"/Users/mostafaalkady/Library/Python/3.11/lib/python/site-packages/stack_data/core.py\", line 734, in lines\n",
      "    pieces = self.included_pieces\n",
      "             ^^^^^^^^^^^^^^^^^^^^\n",
      "  File \"/Users/mostafaalkady/Library/Python/3.11/lib/python/site-packages/stack_data/utils.py\", line 144, in cached_property_wrapper\n",
      "    value = obj.__dict__[self.func.__name__] = self.func(obj)\n",
      "                                               ^^^^^^^^^^^^^^\n",
      "  File \"/Users/mostafaalkady/Library/Python/3.11/lib/python/site-packages/stack_data/core.py\", line 681, in included_pieces\n",
      "    pos = scope_pieces.index(self.executing_piece)\n",
      "                             ^^^^^^^^^^^^^^^^^^^^\n",
      "  File \"/Users/mostafaalkady/Library/Python/3.11/lib/python/site-packages/stack_data/utils.py\", line 144, in cached_property_wrapper\n",
      "    value = obj.__dict__[self.func.__name__] = self.func(obj)\n",
      "                                               ^^^^^^^^^^^^^^\n",
      "  File \"/Users/mostafaalkady/Library/Python/3.11/lib/python/site-packages/stack_data/core.py\", line 660, in executing_piece\n",
      "    return only(\n",
      "           ^^^^^\n",
      "  File \"/Users/mostafaalkady/Library/Python/3.11/lib/python/site-packages/executing/executing.py\", line 190, in only\n",
      "    raise NotOneValueFound('Expected one value, found 0')\n",
      "executing.executing.NotOneValueFound: Expected one value, found 0\n"
     ]
    }
   ],
   "source": [
    "total = 0\n",
    "for i in range(len(primes)):\n",
    "    if i % 1000000 == 0:\n",
    "        print(\"now at\", i)\n",
    "    count = 0\n",
    "    divisors = finding_divisors(primes[i]-1)\n",
    "    for j in divisors[0:len(divisors)//2]: # only need to check half of the divisors, because the expression is symmertric\n",
    "        if  bool(binary_search(primes[0:i+1], j+(primes[i]-1)//j)): \n",
    "            count += 1\n",
    "        if count == len(divisors)//2:\n",
    "            # print(primes[i]-1)\n",
    "            total += (primes[i]-1)\n",
    "\n",
    "print(\"total:\", total)"
   ]
  },
  {
   "cell_type": "markdown",
   "metadata": {},
   "source": [
    "Brute force (not recommended):"
   ]
  },
  {
   "cell_type": "code",
   "execution_count": 31,
   "metadata": {},
   "outputs": [
    {
     "name": "stdout",
     "output_type": "stream",
     "text": [
      "1\n",
      "2\n",
      "6\n",
      "10\n",
      "22\n",
      "30\n",
      "42\n",
      "58\n",
      "70\n",
      "78\n",
      "82\n",
      "102\n",
      "130\n",
      "190\n",
      "210\n",
      "310\n",
      "330\n",
      "358\n",
      "382\n",
      "442\n",
      "462\n",
      "478\n",
      "562\n",
      "658\n",
      "742\n",
      "838\n",
      "862\n",
      "970\n",
      "8427\n"
     ]
    }
   ],
   "source": [
    "total = 0\n",
    "for i in range(1,1001):\n",
    "    # if i % 10000000 == 0:\n",
    "    #     print(\"now at\", i)\n",
    "    count = 0\n",
    "    divisors = finding_divisors(i)\n",
    "    for j in divisors:\n",
    "        if is_prime(j+i/j):\n",
    "            count += 1\n",
    "        if count == len(divisors):\n",
    "            print(i)\n",
    "            total += i\n",
    "\n",
    "print(total)"
   ]
  },
  {
   "cell_type": "code",
   "execution_count": 5,
   "metadata": {},
   "outputs": [
    {
     "name": "stdout",
     "output_type": "stream",
     "text": [
      "0 []\n",
      "1 [1]\n",
      "2 [1, 2]\n",
      "3 [1, 3]\n",
      "4 [1, 4, 2]\n",
      "5 [1, 5]\n",
      "6 [1, 6, 2, 3]\n",
      "7 [1, 7]\n",
      "8 [1, 8, 2, 4]\n",
      "9 [1, 9, 3]\n",
      "10 [1, 10, 2, 5]\n",
      "11 [1, 11]\n",
      "12 [1, 12, 2, 6, 3, 4]\n",
      "13 [1, 13]\n",
      "14 [1, 14, 2, 7]\n",
      "15 [1, 15, 3, 5]\n",
      "16 [1, 16, 2, 8, 4]\n",
      "17 [1, 17]\n",
      "18 [1, 18, 2, 9, 3, 6]\n",
      "19 [1, 19]\n",
      "20 [1, 20, 2, 10, 4, 5]\n",
      "21 [1, 21, 3, 7]\n",
      "22 [1, 22, 2, 11]\n",
      "23 [1, 23]\n",
      "24 [1, 24, 2, 12, 3, 8, 4, 6]\n",
      "25 [1, 25, 5]\n",
      "26 [1, 26, 2, 13]\n",
      "27 [1, 27, 3, 9]\n",
      "28 [1, 28, 2, 14, 4, 7]\n",
      "29 [1, 29]\n",
      "30 [1, 30, 2, 15, 3, 10, 5, 6]\n",
      "31 [1, 31]\n",
      "32 [1, 32, 2, 16, 4, 8]\n",
      "33 [1, 33, 3, 11]\n",
      "34 [1, 34, 2, 17]\n",
      "35 [1, 35, 5, 7]\n",
      "36 [1, 36, 2, 18, 3, 12, 4, 9, 6]\n",
      "37 [1, 37]\n",
      "38 [1, 38, 2, 19]\n",
      "39 [1, 39, 3, 13]\n",
      "40 [1, 40, 2, 20, 4, 10, 5, 8]\n",
      "41 [1, 41]\n",
      "42 [1, 42, 2, 21, 3, 14, 6, 7]\n",
      "43 [1, 43]\n",
      "44 [1, 44, 2, 22, 4, 11]\n",
      "45 [1, 45, 3, 15, 5, 9]\n",
      "46 [1, 46, 2, 23]\n",
      "47 [1, 47]\n",
      "48 [1, 48, 2, 24, 3, 16, 4, 12, 6, 8]\n",
      "49 [1, 49, 7]\n"
     ]
    }
   ],
   "source": [
    "for i in range(50):\n",
    "    print(i, finding_divisors(i))"
   ]
  }
 ],
 "metadata": {
  "kernelspec": {
   "display_name": "Python 3",
   "language": "python",
   "name": "python3"
  },
  "language_info": {
   "codemirror_mode": {
    "name": "ipython",
    "version": 3
   },
   "file_extension": ".py",
   "mimetype": "text/x-python",
   "name": "python",
   "nbconvert_exporter": "python",
   "pygments_lexer": "ipython3",
   "version": "3.11.5"
  }
 },
 "nbformat": 4,
 "nbformat_minor": 2
}
