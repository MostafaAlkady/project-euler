{
 "cells": [
  {
   "cell_type": "code",
   "execution_count": 64,
   "metadata": {},
   "outputs": [],
   "source": [
    "import numpy as np\n",
    "\n",
    "def func(b1, n):\n",
    "    b = [b1]\n",
    "    for i in range(n):\n",
    "        b.append(np.floor(b[-1])*(b[-1]-np.floor(b[-1])+1))\n",
    "    a = np.floor(b)\n",
    "    concatenation = str(int(a[0])) + \".\" + ''.join([str(int(i)) for i in a[1:]])\n",
    "    return concatenation\n",
    "\n",
    "next = 2"
   ]
  },
  {
   "cell_type": "markdown",
   "metadata": {},
   "source": [
    "run the next cell 24 times, each time adding the new digit into the num string."
   ]
  },
  {
   "cell_type": "code",
   "execution_count": 91,
   "metadata": {},
   "outputs": [
    {
     "name": "stdout",
     "output_type": "stream",
     "text": [
      "2.223561019313554106173177192\n"
     ]
    }
   ],
   "source": [
    "for i in range(10000):\n",
    "    num = \"2.223561019313554106173177192\" + str(i)\n",
    "    if num[next] == func(float(num),30)[next]:\n",
    "        print(num)\n",
    "        next += 1\n",
    "        break"
   ]
  }
 ],
 "metadata": {
  "kernelspec": {
   "display_name": "Python 3",
   "language": "python",
   "name": "python3"
  },
  "language_info": {
   "codemirror_mode": {
    "name": "ipython",
    "version": 3
   },
   "file_extension": ".py",
   "mimetype": "text/x-python",
   "name": "python",
   "nbconvert_exporter": "python",
   "pygments_lexer": "ipython3",
   "version": "3.11.5"
  }
 },
 "nbformat": 4,
 "nbformat_minor": 2
}
