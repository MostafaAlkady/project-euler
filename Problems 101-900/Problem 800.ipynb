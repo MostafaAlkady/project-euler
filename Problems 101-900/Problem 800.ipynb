{
 "cells": [
  {
   "cell_type": "code",
   "execution_count": 1,
   "metadata": {},
   "outputs": [
    {
     "name": "stdout",
     "output_type": "stream",
     "text": [
      "1013611\n"
     ]
    }
   ],
   "source": [
    "import numpy as np\n",
    "\n",
    "prime_numbers = []  # Declare the global variable\n",
    "\n",
    "def sieve_of_eratosthenes(limit):\n",
    "    global prime_numbers  # Declare that we are using the global variable\n",
    "    prime = [True] * (limit + 1)\n",
    "    p = 2\n",
    "\n",
    "    while p * p <= limit:\n",
    "        if prime[p]:\n",
    "            for i in range(p * p, limit + 1, p):\n",
    "                prime[i] = False\n",
    "        p += 1\n",
    "\n",
    "    prime_numbers = [p for p in range(2, limit + 1) if prime[p]]\n",
    "    return prime_numbers\n",
    "\n",
    "# Example usage\n",
    "limit = 15710000\n",
    "# limit = 20000\n",
    "primes = sieve_of_eratosthenes(limit)\n",
    "primes = np.array(primes)\n",
    "print(len(primes))"
   ]
  },
  {
   "cell_type": "markdown",
   "metadata": {},
   "source": [
    "Brute Force: (will take a lot of time, not recommended)"
   ]
  },
  {
   "cell_type": "code",
   "execution_count": null,
   "metadata": {},
   "outputs": [],
   "source": [
    "# reversed_primes = primes[::-1]\n",
    "counter = 0\n",
    "for i in range(len(primes)):\n",
    "    if i % 1000 == 0:\n",
    "        print(\"now calculating i = \", i)\n",
    "    for j in range(i + 1, len(primes)):\n",
    "        if primes[i] * np.log(primes[j]) + primes[j] * np.log(primes[i]) <= 800*np.log(800):\n",
    "            counter += 1\n",
    "        else:\n",
    "            break\n",
    "print(counter)"
   ]
  },
  {
   "cell_type": "markdown",
   "metadata": {},
   "source": [
    "The idea is to avoid running over the primes in the j loop that you already know (from the previous iteration) will give you bigger numbers than your desired value of 800800 np.log(800800)"
   ]
  },
  {
   "cell_type": "code",
   "execution_count": 10,
   "metadata": {},
   "outputs": [
    {
     "name": "stdout",
     "output_type": "stream",
     "text": [
      "length of array = 1013611\n",
      "1412403576\n"
     ]
    }
   ],
   "source": [
    "limit = 15710000\n",
    "# limit = 20000\n",
    "primes = sieve_of_eratosthenes(limit)\n",
    "primes = np.array(primes)\n",
    "print(\"length of array =\", len(primes))\n",
    "\n",
    "counter = 0\n",
    "end_position = len(primes)\n",
    "for i in range(len(primes)):\n",
    "    # if i % 1000 == 0:\n",
    "    #     print(\"now calculating i = \", i)\n",
    "    for j in range(end_position-1, i, -1):\n",
    "        if primes[i] * np.log(primes[j]) + primes[j] * np.log(primes[i]) > 800800*np.log(800800):\n",
    "            continue\n",
    "        else:\n",
    "            counter += j - i\n",
    "            end_position = j + 1\n",
    "            break\n",
    "print(counter)"
   ]
  },
  {
   "cell_type": "markdown",
   "metadata": {},
   "source": [
    "Draft:"
   ]
  }
 ],
 "metadata": {
  "kernelspec": {
   "display_name": "Python 3",
   "language": "python",
   "name": "python3"
  },
  "language_info": {
   "codemirror_mode": {
    "name": "ipython",
    "version": 3
   },
   "file_extension": ".py",
   "mimetype": "text/x-python",
   "name": "python",
   "nbconvert_exporter": "python",
   "pygments_lexer": "ipython3",
   "version": "3.11.5"
  }
 },
 "nbformat": 4,
 "nbformat_minor": 2
}
