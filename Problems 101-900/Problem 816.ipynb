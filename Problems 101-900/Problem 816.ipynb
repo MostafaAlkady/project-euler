{
 "cells": [
  {
   "cell_type": "code",
   "execution_count": 1,
   "metadata": {},
   "outputs": [],
   "source": [
    "import numpy as np"
   ]
  },
  {
   "cell_type": "markdown",
   "metadata": {},
   "source": [
    "Closest Pair Algorithm!"
   ]
  },
  {
   "cell_type": "code",
   "execution_count": 5,
   "metadata": {},
   "outputs": [],
   "source": [
    "s = [290797]\n",
    "k = 2000000 #number of points\n",
    "for i in range(2*k):\n",
    "    s.append(s[-1]**2 % 50515093)\n",
    "x_axis = s[0::2]\n",
    "y_axis = s[1::2]"
   ]
  },
  {
   "cell_type": "markdown",
   "metadata": {},
   "source": [
    "The famous closest pair of points algorithm:"
   ]
  },
  {
   "cell_type": "code",
   "execution_count": 6,
   "metadata": {},
   "outputs": [
    {
     "name": "stdout",
     "output_type": "stream",
     "text": [
      "20.8806130178211\n"
     ]
    }
   ],
   "source": [
    "import math\n",
    "\n",
    "def closest_pair_of_points(x_vals, y_vals):\n",
    "    def distance(p1, p2):\n",
    "        return math.sqrt((p1[0] - p2[0]) ** 2 + (p1[1] - p2[1]) ** 2)\n",
    "\n",
    "    def brute_force(points):\n",
    "        min_dist = float('inf')\n",
    "        for i in range(len(points)):\n",
    "            for j in range(i + 1, len(points)):\n",
    "                min_dist = min(min_dist, distance(points[i], points[j]))\n",
    "        return min_dist\n",
    "\n",
    "    def strip_closest(strip, d):\n",
    "        min_dist = d\n",
    "        strip.sort(key=lambda point: point[1])\n",
    "        for i in range(len(strip)):\n",
    "            for j in range(i + 1, len(strip)):\n",
    "                if (strip[j][1] - strip[i][1]) >= min_dist:\n",
    "                    break\n",
    "                min_dist = min(min_dist, distance(strip[i], strip[j]))\n",
    "        return min_dist\n",
    "\n",
    "    def closest_util(points_sorted_x, points_sorted_y):\n",
    "        if len(points_sorted_x) <= 3:\n",
    "            return brute_force(points_sorted_x)\n",
    "        \n",
    "        mid = len(points_sorted_x) // 2\n",
    "        mid_point = points_sorted_x[mid]\n",
    "\n",
    "        left_x = points_sorted_x[:mid]\n",
    "        right_x = points_sorted_x[mid:]\n",
    "\n",
    "        left_y = list(filter(lambda x: x[0] <= mid_point[0], points_sorted_y))\n",
    "        right_y = list(filter(lambda x: x[0] > mid_point[0], points_sorted_y))\n",
    "\n",
    "        d_left = closest_util(left_x, left_y)\n",
    "        d_right = closest_util(right_x, right_y)\n",
    "        d = min(d_left, d_right)\n",
    "\n",
    "        strip = [point for point in points_sorted_y if abs(point[0] - mid_point[0]) < d]\n",
    "\n",
    "        return min(d, strip_closest(strip, d))\n",
    "\n",
    "    points = list(zip(x_vals, y_vals))\n",
    "    points_sorted_x = sorted(points, key=lambda point: point[0])\n",
    "    points_sorted_y = sorted(points, key=lambda point: point[1])\n",
    "\n",
    "    return closest_util(points_sorted_x, points_sorted_y)\n",
    "\n",
    "\n",
    "print(closest_pair_of_points(x_axis, y_axis))\n"
   ]
  }
 ],
 "metadata": {
  "kernelspec": {
   "display_name": "Python 3",
   "language": "python",
   "name": "python3"
  },
  "language_info": {
   "codemirror_mode": {
    "name": "ipython",
    "version": 3
   },
   "file_extension": ".py",
   "mimetype": "text/x-python",
   "name": "python",
   "nbconvert_exporter": "python",
   "pygments_lexer": "ipython3",
   "version": "3.11.5"
  }
 },
 "nbformat": 4,
 "nbformat_minor": 2
}
