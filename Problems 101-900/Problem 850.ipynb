{
 "cells": [
  {
   "cell_type": "code",
   "execution_count": 1,
   "outputs": [],
   "source": [
    "def sum_two_fractions(num1,den1,num2,den2):\n",
    "    num, den = [], []\n",
    "    num.append(num1 * den2 + num2 * den1)\n",
    "    den.append(den1 * den2)\n",
    "    return num, den"
   ],
   "metadata": {
    "collapsed": false,
    "ExecuteTime": {
     "end_time": "2023-08-15T18:03:40.890480Z",
     "start_time": "2023-08-15T18:03:40.887672Z"
    }
   },
   "id": "600ebc32b606a62d"
  },
  {
   "cell_type": "code",
   "execution_count": 2,
   "outputs": [],
   "source": [
    "def function(n,k):\n",
    "    numerator, denominator = [], []\n",
    "    for i in range(1,n+1):\n",
    "        denominator.append(n)\n",
    "        if i**k >= n :\n",
    "            numerator.append(i**k % n)\n",
    "        else:\n",
    "            numerator.append(i**k)\n",
    "    num, den = [None]*(len(numerator)-1), [None]*(len(denominator)-1)\n",
    "    num[0] = numerator[0]\n",
    "    den[0] = denominator[0]\n",
    "    for i in range(len(numerator)-1):\n",
    "        num[0], den[0] = sum_two_fractions(num[0],den[0],numerator[1],denominator[1])\n",
    "        del numerator[0]\n",
    "        del denominator[0]\n",
    "        print(num[0])\n",
    "    return num, den"
   ],
   "metadata": {
    "collapsed": false,
    "ExecuteTime": {
     "end_time": "2023-08-15T18:03:45.851059Z",
     "start_time": "2023-08-15T18:03:45.849107Z"
    }
   },
   "id": "922d3d3b49c2fac"
  },
  {
   "cell_type": "code",
   "execution_count": 36,
   "outputs": [],
   "source": [
    "def s_function(N):\n",
    "    result = 0\n",
    "    for k in range(1,N,2):\n",
    "        for n in range(1,N):\n",
    "            result += function(n,k)\n",
    "    return result"
   ],
   "metadata": {
    "collapsed": false,
    "ExecuteTime": {
     "end_time": "2023-08-15T17:15:11.607970Z",
     "start_time": "2023-08-15T17:15:11.605044Z"
    }
   },
   "id": "28175d499649ce5c"
  },
  {
   "cell_type": "code",
   "execution_count": 3,
   "outputs": [],
   "source": [
    "function(10,5)"
   ],
   "metadata": {
    "collapsed": false,
    "ExecuteTime": {
     "end_time": "2023-08-15T18:04:37.314472Z",
     "start_time": "2023-08-15T18:04:23.963642Z"
    }
   },
   "id": "5c4091a12a53c812"
  },
  {
   "cell_type": "markdown",
   "source": [
    "### Turned out to be ineffective"
   ],
   "metadata": {
    "collapsed": false
   },
   "id": "690e66d7868ae68e"
  },
  {
   "cell_type": "code",
   "execution_count": null,
   "outputs": [],
   "source": [
    "def fractional_part(x):\n",
    "    x = str(x)\n",
    "    position_of_decimal = x.find('.')\n",
    "    return float(\"0.\" + x[position_of_decimal+1:])"
   ],
   "metadata": {
    "collapsed": false
   },
   "id": "99340384e5b89628"
  },
  {
   "cell_type": "code",
   "execution_count": 40,
   "outputs": [],
   "source": [
    "# import decimal\n",
    "# decimal.setcontext(decimal.Context(prec=1000))\n",
    "def function(n,k):\n",
    "    result = 0\n",
    "    for i in range(1,n):\n",
    "        inside = (i**k) / n\n",
    "        result += fractional_part(inside)\n",
    "    return result"
   ],
   "metadata": {
    "collapsed": false,
    "ExecuteTime": {
     "end_time": "2023-08-15T17:18:05.012354Z",
     "start_time": "2023-08-15T17:18:05.003867Z"
    }
   },
   "id": "ca7098ae9dee2ffc"
  },
  {
   "cell_type": "code",
   "execution_count": 68,
   "outputs": [],
   "source": [
    "print(1+2)"
   ],
   "metadata": {
    "collapsed": false
   },
   "id": "e571949f63e58669"
  },
  {
   "cell_type": "code",
   "execution_count": null,
   "outputs": [],
   "source": [],
   "metadata": {
    "collapsed": false
   },
   "id": "fb35774c68fd483a"
  }
 ],
 "metadata": {
  "kernelspec": {
   "display_name": "Python 3",
   "language": "python",
   "name": "python3"
  },
  "language_info": {
   "codemirror_mode": {
    "name": "ipython",
    "version": 2
   },
   "file_extension": ".py",
   "mimetype": "text/x-python",
   "name": "python",
   "nbconvert_exporter": "python",
   "pygments_lexer": "ipython2",
   "version": "2.7.6"
  }
 },
 "nbformat": 4,
 "nbformat_minor": 5
}
