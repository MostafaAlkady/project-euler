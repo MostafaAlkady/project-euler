{
 "cells": [
  {
   "cell_type": "code",
   "execution_count": 93,
   "metadata": {},
   "outputs": [
    {
     "data": {
      "text/plain": [
       "10"
      ]
     },
     "execution_count": 93,
     "metadata": {},
     "output_type": "execute_result"
    }
   ],
   "source": [
    "from math import comb\n",
    "import math\n",
    "comb(5,2)"
   ]
  },
  {
   "cell_type": "markdown",
   "metadata": {},
   "source": [
    "Counting things that ruin beauty and subtract from total number of possibilities:"
   ]
  },
  {
   "cell_type": "code",
   "execution_count": 64,
   "metadata": {},
   "outputs": [],
   "source": [
    "def beautiful_graph(n): #n total number of edges\n",
    "    # distributing 4 colors on the edges\n",
    "    total_possibilities = 4**n\n",
    "    blue_and_red = 0\n",
    "    # looping over all cycles\n",
    "    for i in range(3,n+1):\n",
    "        blue_and_red += comb(n,i)* (3**i-2**i)\n",
    "        print(blue_and_red)\n",
    "    blue_and_red *= 2\n",
    "    brown_and_green = comb(n,3)*2\n",
    "    print(\"total_possibilities\",total_possibilities)\n",
    "    print(\"blue_and_red\",blue_and_red)\n",
    "    print(\"brown_and_green\",brown_and_green)\n",
    "    return total_possibilities - blue_and_red - brown_and_green"
   ]
  },
  {
   "cell_type": "code",
   "execution_count": 94,
   "metadata": {},
   "outputs": [],
   "source": [
    "def beautiful_graph(n): #n total number of nodes\n",
    "    # distributing 4 colors on the edges\n",
    "    edg = n*(n-1)//2 #number of edges\n",
    "    total_possibilities = 4**edg\n",
    "    blue_and_red = 0\n",
    "    # looping over all cycles\n",
    "    for i in range(3,n+1):\n",
    "        blue_and_red += comb(n,i)* math.factorial(i) * 2* (3**i-2**i)\n",
    "        print(blue_and_red)\n",
    "    # blue_and_red *= 2\n",
    "    brown_and_green = comb(n,3)*2\n",
    "    print(\"total_possibilities\",total_possibilities)\n",
    "    print(\"blue_and_red\",blue_and_red)\n",
    "    print(\"brown_and_green\",brown_and_green)\n",
    "    return total_possibilities - blue_and_red - brown_and_green"
   ]
  },
  {
   "cell_type": "code",
   "execution_count": 96,
   "metadata": {},
   "outputs": [
    {
     "name": "stdout",
     "output_type": "stream",
     "text": [
      "103740\n",
      "4362540\n",
      "156434460\n",
      "4949222460\n",
      "138505845660\n",
      "3410286357660\n",
      "73047578882460\n",
      "1337677665602460\n",
      "20418717179138460\n",
      "250283897043458460\n",
      "2324426750033666460\n",
      "14790708804820226460\n",
      "52232404842870530460\n",
      "total_possibilities 1645504557321206042154969182557350504982735865633579863348609024\n",
      "blue_and_red 52232404842870530460\n",
      "brown_and_green 910\n"
     ]
    },
    {
     "data": {
      "text/plain": [
       "1645504557321206042154969182557350504982735813401175020478077654"
      ]
     },
     "execution_count": 96,
     "metadata": {},
     "output_type": "execute_result"
    }
   ],
   "source": [
    "beautiful_graph(15)"
   ]
  },
  {
   "cell_type": "markdown",
   "metadata": {},
   "source": [
    "Counting the beautiful graphs:"
   ]
  },
  {
   "cell_type": "code",
   "execution_count": 102,
   "metadata": {},
   "outputs": [],
   "source": [
    "def beautiful_graph2(n): #n total number of edges\n",
    "    # distributing 4 colors on the edges\n",
    "    # total_possibilities = 4**n\n",
    "    edg = n*(n-1)//2 #number of edges\n",
    "    blue_and_red = 0\n",
    "    # looping over all cycles\n",
    "    for i in range(3,n+1):\n",
    "        blue_and_red += comb(n,i)* 2 * (4**i - 3**i + 2**i)\n",
    "        print(blue_and_red)\n",
    "    brown_and_green = comb(n,3)*6\n",
    "    # print(\"total_possibilities\",total_possibilities)\n",
    "    print(\"blue_and_red\",blue_and_red)\n",
    "    print(\"brown_and_green\",brown_and_green)\n",
    "    return blue_and_red + brown_and_green"
   ]
  },
  {
   "cell_type": "code",
   "execution_count": 103,
   "metadata": {},
   "outputs": [
    {
     "name": "stdout",
     "output_type": "stream",
     "text": [
      "360\n",
      "742\n",
      "blue_and_red 742\n",
      "brown_and_green 24\n"
     ]
    },
    {
     "data": {
      "text/plain": [
       "766"
      ]
     },
     "execution_count": 103,
     "metadata": {},
     "output_type": "execute_result"
    }
   ],
   "source": [
    "beautiful_graph2(4)"
   ]
  },
  {
   "cell_type": "code",
   "execution_count": 89,
   "metadata": {},
   "outputs": [
    {
     "name": "stdout",
     "output_type": "stream",
     "text": [
      "4096\n"
     ]
    }
   ],
   "source": [
    "lst = ['Br', 'G', 'R', 'B']\n",
    "# print all possible permutations of size 3 allowing repetition\n",
    "all_possibilities = []\n",
    "not_beautiful, beautiful = 0, 0\n",
    "count = 0\n",
    "from itertools import product\n",
    "for i in product(lst, repeat=6):\n",
    "    count += 1\n",
    "print(count)"
   ]
  },
  {
   "cell_type": "code",
   "execution_count": null,
   "metadata": {},
   "outputs": [],
   "source": [
    "    "
   ]
  }
 ],
 "metadata": {
  "kernelspec": {
   "display_name": "Python 3",
   "language": "python",
   "name": "python3"
  },
  "language_info": {
   "codemirror_mode": {
    "name": "ipython",
    "version": 3
   },
   "file_extension": ".py",
   "mimetype": "text/x-python",
   "name": "python",
   "nbconvert_exporter": "python",
   "pygments_lexer": "ipython3",
   "version": "3.11.5"
  },
  "orig_nbformat": 4
 },
 "nbformat": 4,
 "nbformat_minor": 2
}
